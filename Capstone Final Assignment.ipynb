{
    "cells": [
        {
            "cell_type": "markdown",
            "metadata": {
                "collapsed": true
            },
            "source": "# Final IBM Capstone Project"
        },
        {
            "cell_type": "markdown",
            "metadata": {},
            "source": "*Welcome to the final IBM Capstone Project. \nNow that you have been equipped with the skills and the tools to use location data to explore a geographical location, over the course of two weeks, you will have the opportunity to be as creative as you want and come up with an idea to leverage the Foursquare location data to explore or compare neighborhoods or cities of your choice or to come up with a problem that you can use the Foursquare location data to solve. "
        },
        {
            "cell_type": "code",
            "execution_count": null,
            "metadata": {},
            "outputs": [],
            "source": ""
        },
        {
            "cell_type": "markdown",
            "metadata": {},
            "source": "## A. Introduction \n#### *Discuss the business problem and who would be interested in this project\n\n### Opening a Chinese Restaurant in Toronto, Canada \nThe provincial capital of Ontario. With a recorded population of 2,731,571 in 2016, it is the most populous city in Canada and the fourth most populous city in North America. Toronto is an international centre of business, finance, arts, and culture, and is recognized as one of the most multicultural and cosmopolitan cities in the world.\n\nChinese food is a great, delectable meal! Starting a restaurant with a recognized and popular cuisine can have great potential.  \n\nWe will analyze the neighborhoods in Toronto to identify the most profitable area based on population density and ethnicity diversity. Toronto is a great place to start the restaurant, but we just need to make sure whether it is a profitable idea or not."
        },
        {
            "cell_type": "markdown",
            "metadata": {},
            "source": "### Target Audience\n- Business personal who are looking to open a restaraunt in Toronto\n- Investors looking for a potentially successful restauraunt\n- Freelancers looking to start a franchise \n- Data Scientists who wish to analyze Toronto's neighborhoods \n- New visitors to Toronto who love to eat sushi often "
        },
        {
            "cell_type": "code",
            "execution_count": null,
            "metadata": {},
            "outputs": [],
            "source": ""
        },
        {
            "cell_type": "markdown",
            "metadata": {},
            "source": "## B. Data\n#### *Describe the data that will be used to solve the problem and the source of the data."
        },
        {
            "cell_type": "code",
            "execution_count": null,
            "metadata": {},
            "outputs": [],
            "source": ""
        },
        {
            "cell_type": "markdown",
            "metadata": {},
            "source": "### B.1 Data Sources\n\na. Toronto's Neighborhood information such as \n- Postal Codes\n- Boroughs\n- Neighborhood Names \nSource: https://en.wikipedia.org/wiki/List_of_postal_codes_of_Canada:_M\n\nb. Toronto's Neighborhood Geographical Information\n- Latitude \n- Longitude\nSource: https://cocl.us/Geospatial_data\n\nc. Population Distribution by Ethnic Diversity \n- Ethnic Origin \nSource: https://en.m.wikipedia.org/wiki/Demographics_of_Toronto#Ethnic_diversity)\n\nd. Toronto's Venues Locations, Names, Categories, Location (in Latitude and Longitude) \nvia Foursquare's explore API \nSource: https://developer.foursquare.com\n\n#### Explanation: \nBy combining all of these data sources, we can create a data summary that will allow target audiences to make the best educated decision for their restaurant location."
        },
        {
            "cell_type": "code",
            "execution_count": null,
            "metadata": {},
            "outputs": [],
            "source": ""
        },
        {
            "cell_type": "markdown",
            "metadata": {},
            "source": "### B.2 Data Frame "
        },
        {
            "cell_type": "markdown",
            "metadata": {},
            "source": "#### B.2.a. Toronto's Neighborhood information\n\nGoal: Create a Data Frame with the following columns:\n- Postal Code\n- Borough\n- Neighborhood \n\n*Note\n- *Only the cells that have an assigned borough will be processed. Borough that is not assigned are ignored.\n- *More than one neighborhood can exist in one postal code area. For example, in the table on the Wikipedia page, you will notice that M5A is listed twice and has two neighborhoods: Harbourfront and Regent Park. These two rows will be combined into one row with the neighborhoods separated with a comma as shown in row 11 in the above table.\n- *If a cell has a borough but a Not assigned neighborhood, then the neighborhood will be the same as the borough."
        },
        {
            "cell_type": "code",
            "execution_count": 1,
            "metadata": {},
            "outputs": [],
            "source": "import pandas as pd\nimport numpy as np\nimport wikipedia as wp\n"
        },
        {
            "cell_type": "code",
            "execution_count": 2,
            "metadata": {},
            "outputs": [
                {
                    "name": "stdout",
                    "output_type": "stream",
                    "text": "Requirement already satisfied: wikipedia in /opt/conda/envs/Python36/lib/python3.6/site-packages (1.4.0)\nRequirement already satisfied: beautifulsoup4 in /opt/conda/envs/Python36/lib/python3.6/site-packages (from wikipedia) (4.7.1)\nRequirement already satisfied: requests<3.0.0,>=2.0.0 in /opt/conda/envs/Python36/lib/python3.6/site-packages (from wikipedia) (2.21.0)\nRequirement already satisfied: soupsieve>=1.2 in /opt/conda/envs/Python36/lib/python3.6/site-packages (from beautifulsoup4->wikipedia) (1.7.1)\nRequirement already satisfied: idna<2.9,>=2.5 in /opt/conda/envs/Python36/lib/python3.6/site-packages (from requests<3.0.0,>=2.0.0->wikipedia) (2.8)\nRequirement already satisfied: chardet<3.1.0,>=3.0.2 in /opt/conda/envs/Python36/lib/python3.6/site-packages (from requests<3.0.0,>=2.0.0->wikipedia) (3.0.4)\nRequirement already satisfied: certifi>=2017.4.17 in /opt/conda/envs/Python36/lib/python3.6/site-packages (from requests<3.0.0,>=2.0.0->wikipedia) (2020.6.20)\nRequirement already satisfied: urllib3<1.25,>=1.21.1 in /opt/conda/envs/Python36/lib/python3.6/site-packages (from requests<3.0.0,>=2.0.0->wikipedia) (1.24.1)\n"
                }
            ],
            "source": "#Install Dependencies \n!pip install wikipedia"
        },
        {
            "cell_type": "code",
            "execution_count": 3,
            "metadata": {},
            "outputs": [
                {
                    "data": {
                        "text/html": "<div>\n<style scoped>\n    .dataframe tbody tr th:only-of-type {\n        vertical-align: middle;\n    }\n\n    .dataframe tbody tr th {\n        vertical-align: top;\n    }\n\n    .dataframe thead th {\n        text-align: right;\n    }\n</style>\n<table border=\"1\" class=\"dataframe\">\n  <thead>\n    <tr style=\"text-align: right;\">\n      <th></th>\n      <th>Postal Code</th>\n      <th>Borough</th>\n      <th>Neighborhood</th>\n    </tr>\n  </thead>\n  <tbody>\n    <tr>\n      <th>0</th>\n      <td>M1A</td>\n      <td>Not assigned</td>\n      <td>Not assigned</td>\n    </tr>\n    <tr>\n      <th>1</th>\n      <td>M2A</td>\n      <td>Not assigned</td>\n      <td>Not assigned</td>\n    </tr>\n    <tr>\n      <th>2</th>\n      <td>M3A</td>\n      <td>North York</td>\n      <td>Parkwoods</td>\n    </tr>\n    <tr>\n      <th>3</th>\n      <td>M4A</td>\n      <td>North York</td>\n      <td>Victoria Village</td>\n    </tr>\n    <tr>\n      <th>4</th>\n      <td>M5A</td>\n      <td>Downtown Toronto</td>\n      <td>Regent Park, Harbourfront</td>\n    </tr>\n  </tbody>\n</table>\n</div>",
                        "text/plain": "  Postal Code           Borough               Neighborhood\n0         M1A      Not assigned               Not assigned\n1         M2A      Not assigned               Not assigned\n2         M3A        North York                  Parkwoods\n3         M4A        North York           Victoria Village\n4         M5A  Downtown Toronto  Regent Park, Harbourfront"
                    },
                    "execution_count": 3,
                    "metadata": {},
                    "output_type": "execute_result"
                }
            ],
            "source": "#Download Source from Wikipedia\nsource = wp.page(\"List of postal codes of Canada: M\").html().encode(\"UTF-8\")\ndf = pd.read_html(source, header = 0)[0]\n\n#Data Sample\ndf.head()"
        },
        {
            "cell_type": "code",
            "execution_count": 4,
            "metadata": {},
            "outputs": [
                {
                    "data": {
                        "text/html": "<div>\n<style scoped>\n    .dataframe tbody tr th:only-of-type {\n        vertical-align: middle;\n    }\n\n    .dataframe tbody tr th {\n        vertical-align: top;\n    }\n\n    .dataframe thead th {\n        text-align: right;\n    }\n</style>\n<table border=\"1\" class=\"dataframe\">\n  <thead>\n    <tr style=\"text-align: right;\">\n      <th></th>\n      <th>Borough</th>\n      <th>Postal Code</th>\n      <th>Neighborhood</th>\n    </tr>\n  </thead>\n  <tbody>\n    <tr>\n      <th>0</th>\n      <td>Central Toronto</td>\n      <td>M4N</td>\n      <td>Lawrence Park</td>\n    </tr>\n    <tr>\n      <th>1</th>\n      <td>Central Toronto</td>\n      <td>M4P</td>\n      <td>Davisville North</td>\n    </tr>\n    <tr>\n      <th>2</th>\n      <td>Central Toronto</td>\n      <td>M4R</td>\n      <td>North Toronto West, Lawrence Park</td>\n    </tr>\n    <tr>\n      <th>3</th>\n      <td>Central Toronto</td>\n      <td>M4S</td>\n      <td>Davisville</td>\n    </tr>\n    <tr>\n      <th>4</th>\n      <td>Central Toronto</td>\n      <td>M4T</td>\n      <td>Moore Park, Summerhill East</td>\n    </tr>\n  </tbody>\n</table>\n</div>",
                        "text/plain": "           Borough Postal Code                       Neighborhood\n0  Central Toronto         M4N                      Lawrence Park\n1  Central Toronto         M4P                   Davisville North\n2  Central Toronto         M4R  North Toronto West, Lawrence Park\n3  Central Toronto         M4S                         Davisville\n4  Central Toronto         M4T        Moore Park, Summerhill East"
                    },
                    "execution_count": 4,
                    "metadata": {},
                    "output_type": "execute_result"
                }
            ],
            "source": "#Data Cleaning Part 1: Unassigned Boroughs will be ignored\ndf = df[df.Borough != 'Not assigned']\ndf = df.rename(columns={'Postcode': 'Postal Code'})\n\n#Data Cleaning Part 2: Unassigned Neighborhoods will share same name as their Assigned Boroughs\nfor index, row in df.iterrows():\n    if row['Neighborhood'] == 'Not assigned':\n        row['Neighborhood'] = row['Borough']\n        \n#Data Cleaning Part 3: Place Multiple Neighborhoods in one Borough         \ndf = df.groupby(['Borough', 'Postal Code'])['Neighborhood'].apply(list).apply(\n    lambda x:', '.join(x)).to_frame().reset_index()\n\n#Data Sample \ndf.head()"
        },
        {
            "cell_type": "code",
            "execution_count": null,
            "metadata": {},
            "outputs": [],
            "source": ""
        },
        {
            "cell_type": "markdown",
            "metadata": {},
            "source": "#### B.2.b. Toronto's Neighborhood Geographical Information\n\nGoal: Add to the Data Frame (Postal Code, Borough, Neighborhood) with the following columns:\n- Latitude\n- Longitude"
        },
        {
            "cell_type": "code",
            "execution_count": 5,
            "metadata": {},
            "outputs": [],
            "source": "#Download Dependencies \nimport io\nimport requests\n\n#Extract data from csv file \nurl = \"https://cocl.us/Geospatial_data\"\ngeo_list = requests.get(url).text\ngeo_list_df=pd.read_csv(io.StringIO(geo_list))"
        },
        {
            "cell_type": "code",
            "execution_count": 6,
            "metadata": {},
            "outputs": [
                {
                    "data": {
                        "text/html": "<div>\n<style scoped>\n    .dataframe tbody tr th:only-of-type {\n        vertical-align: middle;\n    }\n\n    .dataframe tbody tr th {\n        vertical-align: top;\n    }\n\n    .dataframe thead th {\n        text-align: right;\n    }\n</style>\n<table border=\"1\" class=\"dataframe\">\n  <thead>\n    <tr style=\"text-align: right;\">\n      <th></th>\n      <th>Postal Code</th>\n      <th>Latitude</th>\n      <th>Longitude</th>\n    </tr>\n  </thead>\n  <tbody>\n    <tr>\n      <th>0</th>\n      <td>M1B</td>\n      <td>43.806686</td>\n      <td>-79.194353</td>\n    </tr>\n    <tr>\n      <th>1</th>\n      <td>M1C</td>\n      <td>43.784535</td>\n      <td>-79.160497</td>\n    </tr>\n    <tr>\n      <th>2</th>\n      <td>M1E</td>\n      <td>43.763573</td>\n      <td>-79.188711</td>\n    </tr>\n    <tr>\n      <th>3</th>\n      <td>M1G</td>\n      <td>43.770992</td>\n      <td>-79.216917</td>\n    </tr>\n    <tr>\n      <th>4</th>\n      <td>M1H</td>\n      <td>43.773136</td>\n      <td>-79.239476</td>\n    </tr>\n  </tbody>\n</table>\n</div>",
                        "text/plain": "  Postal Code   Latitude  Longitude\n0         M1B  43.806686 -79.194353\n1         M1C  43.784535 -79.160497\n2         M1E  43.763573 -79.188711\n3         M1G  43.770992 -79.216917\n4         M1H  43.773136 -79.239476"
                    },
                    "execution_count": 6,
                    "metadata": {},
                    "output_type": "execute_result"
                }
            ],
            "source": "#Data Sample \ngeo_list_df.head()"
        },
        {
            "cell_type": "code",
            "execution_count": 7,
            "metadata": {},
            "outputs": [],
            "source": "#Merge Dataframe (DF) [Postal Code, Borough, Neighborhood] + Dataframe (GeoList) [Latitude, Longitude]\ntoronto_DF = pd.merge(df,geo_list_df, on='Postal Code')\n\n#Change Neighbo'u'rhood to Neighborhood \ntoronto_DF = toronto_DF.rename(columns={'Neighbourhood':'Neighborhood'})"
        },
        {
            "cell_type": "code",
            "execution_count": 8,
            "metadata": {},
            "outputs": [
                {
                    "data": {
                        "text/html": "<div>\n<style scoped>\n    .dataframe tbody tr th:only-of-type {\n        vertical-align: middle;\n    }\n\n    .dataframe tbody tr th {\n        vertical-align: top;\n    }\n\n    .dataframe thead th {\n        text-align: right;\n    }\n</style>\n<table border=\"1\" class=\"dataframe\">\n  <thead>\n    <tr style=\"text-align: right;\">\n      <th></th>\n      <th>Borough</th>\n      <th>Postal Code</th>\n      <th>Neighborhood</th>\n      <th>Latitude</th>\n      <th>Longitude</th>\n    </tr>\n  </thead>\n  <tbody>\n    <tr>\n      <th>0</th>\n      <td>Central Toronto</td>\n      <td>M4N</td>\n      <td>Lawrence Park</td>\n      <td>43.728020</td>\n      <td>-79.388790</td>\n    </tr>\n    <tr>\n      <th>1</th>\n      <td>Central Toronto</td>\n      <td>M4P</td>\n      <td>Davisville North</td>\n      <td>43.712751</td>\n      <td>-79.390197</td>\n    </tr>\n    <tr>\n      <th>2</th>\n      <td>Central Toronto</td>\n      <td>M4R</td>\n      <td>North Toronto West, Lawrence Park</td>\n      <td>43.715383</td>\n      <td>-79.405678</td>\n    </tr>\n    <tr>\n      <th>3</th>\n      <td>Central Toronto</td>\n      <td>M4S</td>\n      <td>Davisville</td>\n      <td>43.704324</td>\n      <td>-79.388790</td>\n    </tr>\n    <tr>\n      <th>4</th>\n      <td>Central Toronto</td>\n      <td>M4T</td>\n      <td>Moore Park, Summerhill East</td>\n      <td>43.689574</td>\n      <td>-79.383160</td>\n    </tr>\n  </tbody>\n</table>\n</div>",
                        "text/plain": "           Borough Postal Code                       Neighborhood   Latitude  \\\n0  Central Toronto         M4N                      Lawrence Park  43.728020   \n1  Central Toronto         M4P                   Davisville North  43.712751   \n2  Central Toronto         M4R  North Toronto West, Lawrence Park  43.715383   \n3  Central Toronto         M4S                         Davisville  43.704324   \n4  Central Toronto         M4T        Moore Park, Summerhill East  43.689574   \n\n   Longitude  \n0 -79.388790  \n1 -79.390197  \n2 -79.405678  \n3 -79.388790  \n4 -79.383160  "
                    },
                    "execution_count": 8,
                    "metadata": {},
                    "output_type": "execute_result"
                }
            ],
            "source": "#Data Sample \ntoronto_DF.head()"
        },
        {
            "cell_type": "code",
            "execution_count": null,
            "metadata": {},
            "outputs": [],
            "source": ""
        },
        {
            "cell_type": "markdown",
            "metadata": {},
            "source": "#### B.2.c. Population Distribution by Ethnic Diversity \n\nGoal: Obtain data of each neighborhood's population in term of ethnic diversity and transfer it into the Jupyter notebook.By seeing each federal electoral districts, we can see the most populous ethnic group in each riding (AKA Neighborhood). "
        },
        {
            "cell_type": "code",
            "execution_count": 9,
            "metadata": {},
            "outputs": [],
            "source": "#overall population distribution \nsource = wp.page(\"Demographics of Toronto\").html().encode(\"UTF-8\")"
        },
        {
            "cell_type": "code",
            "execution_count": 10,
            "metadata": {},
            "outputs": [],
            "source": "#TORONTO & EAST YORK population distribution by ethnicity \nTEY_population_df = pd.read_html(source, header = 0)[12]\nTEY_population_df = TEY_population_df.rename(columns={'%':'Ethnic Origin 1 in %', \n                                                      '%.1':'Ethnic Origin 2 in %',\n                                                     '%.2':'Ethnic Origin 3 in %',\n                                                     '%.3':'Ethnic Origin 4 in %',\n                                                     '%.4':'Ethnic Origin 5 in %',\n                                                     '%.5':'Ethnic Origin 6 in %',\n                                                     '%.6':'Ethnic Origin 7 in %',\n                                                     '%.7':'Ethnic Origin 8 in %',\n                                                     '%.8':'Ethnic Origin 9 in %'})"
        },
        {
            "cell_type": "code",
            "execution_count": 11,
            "metadata": {},
            "outputs": [
                {
                    "data": {
                        "text/html": "<div>\n<style scoped>\n    .dataframe tbody tr th:only-of-type {\n        vertical-align: middle;\n    }\n\n    .dataframe tbody tr th {\n        vertical-align: top;\n    }\n\n    .dataframe thead th {\n        text-align: right;\n    }\n</style>\n<table border=\"1\" class=\"dataframe\">\n  <thead>\n    <tr style=\"text-align: right;\">\n      <th></th>\n      <th>Riding</th>\n      <th>Population</th>\n      <th>Ethnic Origin #1</th>\n      <th>Ethnic Origin 1 in %</th>\n      <th>Ethnic Origin #2</th>\n      <th>Ethnic Origin 2 in %</th>\n      <th>Ethnic Origin #3</th>\n      <th>Ethnic Origin 3 in %</th>\n      <th>Ethnic Origin #4</th>\n      <th>Ethnic Origin 4 in %</th>\n      <th>Ethnic Origin #5</th>\n      <th>Ethnic Origin 5 in %</th>\n      <th>Ethnic Origin #6</th>\n      <th>Ethnic Origin 6 in %</th>\n      <th>Ethnic Origin #7</th>\n      <th>Ethnic Origin 7 in %</th>\n      <th>Ethnic Origin #8</th>\n      <th>Ethnic Origin 8 in %</th>\n      <th>Ethnic Origin #9</th>\n      <th>Ethnic Origin 9 in %</th>\n    </tr>\n  </thead>\n  <tbody>\n    <tr>\n      <th>0</th>\n      <td>Spadina-Fort York</td>\n      <td>114315</td>\n      <td>English</td>\n      <td>16.4</td>\n      <td>Chinese</td>\n      <td>16.0</td>\n      <td>Irish</td>\n      <td>14.6</td>\n      <td>Canadian</td>\n      <td>14.0</td>\n      <td>Scottish</td>\n      <td>13.2</td>\n      <td>French</td>\n      <td>7.70</td>\n      <td>German</td>\n      <td>7.6</td>\n      <td>NaN</td>\n      <td>NaN</td>\n      <td>NaN</td>\n      <td>NaN</td>\n    </tr>\n    <tr>\n      <th>1</th>\n      <td>Beaches-East York</td>\n      <td>108435</td>\n      <td>English</td>\n      <td>24.2</td>\n      <td>Irish</td>\n      <td>19.9</td>\n      <td>Canadian</td>\n      <td>19.7</td>\n      <td>Scottish</td>\n      <td>18.9</td>\n      <td>French</td>\n      <td>8.7</td>\n      <td>German</td>\n      <td>8.40</td>\n      <td>NaN</td>\n      <td>NaN</td>\n      <td>NaN</td>\n      <td>NaN</td>\n      <td>NaN</td>\n      <td>NaN</td>\n    </tr>\n    <tr>\n      <th>2</th>\n      <td>Davenport</td>\n      <td>107395</td>\n      <td>Portuguese</td>\n      <td>22.7</td>\n      <td>English</td>\n      <td>13.6</td>\n      <td>Canadian</td>\n      <td>12.8</td>\n      <td>Irish</td>\n      <td>11.5</td>\n      <td>Italian</td>\n      <td>11.1</td>\n      <td>Scottish</td>\n      <td>11.00</td>\n      <td>NaN</td>\n      <td>NaN</td>\n      <td>NaN</td>\n      <td>NaN</td>\n      <td>NaN</td>\n      <td>NaN</td>\n    </tr>\n    <tr>\n      <th>3</th>\n      <td>Parkdale-High Park</td>\n      <td>106445</td>\n      <td>English</td>\n      <td>22.3</td>\n      <td>Irish</td>\n      <td>20.0</td>\n      <td>Scottish</td>\n      <td>18.7</td>\n      <td>Canadian</td>\n      <td>16.1</td>\n      <td>German</td>\n      <td>9.8</td>\n      <td>French</td>\n      <td>8.88</td>\n      <td>Polish</td>\n      <td>8.5</td>\n      <td>NaN</td>\n      <td>NaN</td>\n      <td>NaN</td>\n      <td>NaN</td>\n    </tr>\n    <tr>\n      <th>4</th>\n      <td>Toronto-Danforth</td>\n      <td>105395</td>\n      <td>English</td>\n      <td>22.9</td>\n      <td>Irish</td>\n      <td>19.5</td>\n      <td>Scottish</td>\n      <td>18.7</td>\n      <td>Canadian</td>\n      <td>18.4</td>\n      <td>Chinese</td>\n      <td>13.8</td>\n      <td>French</td>\n      <td>8.86</td>\n      <td>German</td>\n      <td>8.8</td>\n      <td>Greek</td>\n      <td>7.3</td>\n      <td>NaN</td>\n      <td>NaN</td>\n    </tr>\n    <tr>\n      <th>5</th>\n      <td>Toronto-St. Paul's</td>\n      <td>104940</td>\n      <td>English</td>\n      <td>18.5</td>\n      <td>Canadian</td>\n      <td>16.1</td>\n      <td>Irish</td>\n      <td>15.2</td>\n      <td>Scottish</td>\n      <td>14.8</td>\n      <td>Polish</td>\n      <td>10.3</td>\n      <td>German</td>\n      <td>7.90</td>\n      <td>Russian</td>\n      <td>7.7</td>\n      <td>Italian</td>\n      <td>7.3</td>\n      <td>French</td>\n      <td>7.2</td>\n    </tr>\n    <tr>\n      <th>6</th>\n      <td>University-Rosedale</td>\n      <td>100520</td>\n      <td>English</td>\n      <td>20.6</td>\n      <td>Irish</td>\n      <td>16.6</td>\n      <td>Scottish</td>\n      <td>16.3</td>\n      <td>Canadian</td>\n      <td>15.2</td>\n      <td>Chinese</td>\n      <td>14.7</td>\n      <td>German</td>\n      <td>8.70</td>\n      <td>French</td>\n      <td>7.7</td>\n      <td>Italian</td>\n      <td>7.4</td>\n      <td>NaN</td>\n      <td>NaN</td>\n    </tr>\n    <tr>\n      <th>7</th>\n      <td>Toronto Centre</td>\n      <td>99590</td>\n      <td>English</td>\n      <td>15.7</td>\n      <td>Canadian</td>\n      <td>13.7</td>\n      <td>Irish</td>\n      <td>13.4</td>\n      <td>Scottish</td>\n      <td>12.6</td>\n      <td>Chinese</td>\n      <td>12.5</td>\n      <td>French</td>\n      <td>7.20</td>\n      <td>NaN</td>\n      <td>NaN</td>\n      <td>NaN</td>\n      <td>NaN</td>\n      <td>NaN</td>\n      <td>NaN</td>\n    </tr>\n  </tbody>\n</table>\n</div>",
                        "text/plain": "                Riding  Population Ethnic Origin #1  Ethnic Origin 1 in %  \\\n0    Spadina-Fort York      114315          English                  16.4   \n1    Beaches-East York      108435          English                  24.2   \n2            Davenport      107395       Portuguese                  22.7   \n3   Parkdale-High Park      106445          English                  22.3   \n4     Toronto-Danforth      105395          English                  22.9   \n5   Toronto-St. Paul's      104940          English                  18.5   \n6  University-Rosedale      100520          English                  20.6   \n7       Toronto Centre       99590          English                  15.7   \n\n  Ethnic Origin #2  Ethnic Origin 2 in % Ethnic Origin #3  \\\n0          Chinese                  16.0            Irish   \n1            Irish                  19.9         Canadian   \n2          English                  13.6         Canadian   \n3            Irish                  20.0         Scottish   \n4            Irish                  19.5         Scottish   \n5         Canadian                  16.1            Irish   \n6            Irish                  16.6         Scottish   \n7         Canadian                  13.7            Irish   \n\n   Ethnic Origin 3 in % Ethnic Origin #4  Ethnic Origin 4 in %  \\\n0                  14.6         Canadian                  14.0   \n1                  19.7         Scottish                  18.9   \n2                  12.8            Irish                  11.5   \n3                  18.7         Canadian                  16.1   \n4                  18.7         Canadian                  18.4   \n5                  15.2         Scottish                  14.8   \n6                  16.3         Canadian                  15.2   \n7                  13.4         Scottish                  12.6   \n\n  Ethnic Origin #5  Ethnic Origin 5 in % Ethnic Origin #6  \\\n0         Scottish                  13.2           French   \n1           French                   8.7           German   \n2          Italian                  11.1         Scottish   \n3           German                   9.8           French   \n4          Chinese                  13.8           French   \n5           Polish                  10.3           German   \n6          Chinese                  14.7           German   \n7          Chinese                  12.5           French   \n\n   Ethnic Origin 6 in % Ethnic Origin #7  Ethnic Origin 7 in %  \\\n0                  7.70           German                   7.6   \n1                  8.40              NaN                   NaN   \n2                 11.00              NaN                   NaN   \n3                  8.88           Polish                   8.5   \n4                  8.86           German                   8.8   \n5                  7.90          Russian                   7.7   \n6                  8.70           French                   7.7   \n7                  7.20              NaN                   NaN   \n\n  Ethnic Origin #8  Ethnic Origin 8 in % Ethnic Origin #9  \\\n0              NaN                   NaN              NaN   \n1              NaN                   NaN              NaN   \n2              NaN                   NaN              NaN   \n3              NaN                   NaN              NaN   \n4            Greek                   7.3              NaN   \n5          Italian                   7.3           French   \n6          Italian                   7.4              NaN   \n7              NaN                   NaN              NaN   \n\n   Ethnic Origin 9 in %  \n0                   NaN  \n1                   NaN  \n2                   NaN  \n3                   NaN  \n4                   NaN  \n5                   7.2  \n6                   NaN  \n7                   NaN  "
                    },
                    "execution_count": 11,
                    "metadata": {},
                    "output_type": "execute_result"
                }
            ],
            "source": "#TORONTO & EAST YORK\nTEY_population_df"
        },
        {
            "cell_type": "code",
            "execution_count": 12,
            "metadata": {},
            "outputs": [],
            "source": "#NORTH YORK population distribution by ethnicity \nNorth_population_df = pd.read_html(source, header = 0)[13]\nNorth_population_df = North_population_df.rename(columns={'%':'Ethnic Origin 1 in %', \n                                                      '%.1':'Ethnic Origin 2 in %',\n                                                     '%.2':'Ethnic Origin 3 in %',\n                                                     '%.3':'Ethnic Origin 4 in %',\n                                                     '%.4':'Ethnic Origin 5 in %',\n                                                     '%.5':'Ethnic Origin 6 in %',\n                                                     '%.6':'Ethnic Origin 7 in %',\n                                                     '%.7':'Ethnic Origin 8 in %'})"
        },
        {
            "cell_type": "code",
            "execution_count": 13,
            "metadata": {},
            "outputs": [
                {
                    "data": {
                        "text/html": "<div>\n<style scoped>\n    .dataframe tbody tr th:only-of-type {\n        vertical-align: middle;\n    }\n\n    .dataframe tbody tr th {\n        vertical-align: top;\n    }\n\n    .dataframe thead th {\n        text-align: right;\n    }\n</style>\n<table border=\"1\" class=\"dataframe\">\n  <thead>\n    <tr style=\"text-align: right;\">\n      <th></th>\n      <th>Riding</th>\n      <th>Population</th>\n      <th>Ethnic Origin #1</th>\n      <th>Ethnic Origin 1 in %</th>\n      <th>Ethnic Origin #2</th>\n      <th>Ethnic Origin 2 in %</th>\n      <th>Ethnic Origin #3</th>\n      <th>Ethnic Origin 3 in %</th>\n      <th>Ethnic Origin #4</th>\n      <th>Ethnic Origin 4 in %</th>\n      <th>Ethnic Origin #5</th>\n      <th>Ethnic Origin 5 in %</th>\n      <th>Ethnic Origin #6</th>\n      <th>Ethnic Origin 6 in %</th>\n      <th>Ethnic Origin #7</th>\n      <th>Ethnic Origin 7 in %</th>\n      <th>Ethnic Origin #8</th>\n      <th>Ethnic Origin 8 in %</th>\n    </tr>\n  </thead>\n  <tbody>\n    <tr>\n      <th>0</th>\n      <td>Willowdale</td>\n      <td>117405</td>\n      <td>Chinese</td>\n      <td>25.9</td>\n      <td>Iranian</td>\n      <td>12.1</td>\n      <td>Korean</td>\n      <td>10.6</td>\n      <td>NaN</td>\n      <td>NaN</td>\n      <td>NaN</td>\n      <td>NaN</td>\n      <td>NaN</td>\n      <td>NaN</td>\n      <td>NaN</td>\n      <td>NaN</td>\n      <td>NaN</td>\n      <td>NaN</td>\n    </tr>\n    <tr>\n      <th>1</th>\n      <td>Eglinton-Lawrence</td>\n      <td>112925</td>\n      <td>Canadian</td>\n      <td>14.7</td>\n      <td>English</td>\n      <td>12.6</td>\n      <td>Polish</td>\n      <td>12.0</td>\n      <td>Filipino</td>\n      <td>11.0</td>\n      <td>Scottish</td>\n      <td>9.7</td>\n      <td>Italian</td>\n      <td>9.5</td>\n      <td>Irish</td>\n      <td>9.2</td>\n      <td>Russian</td>\n      <td>8.4</td>\n    </tr>\n    <tr>\n      <th>2</th>\n      <td>Don Valley North</td>\n      <td>109060</td>\n      <td>Chinese</td>\n      <td>32.4</td>\n      <td>East Indian</td>\n      <td>7.3</td>\n      <td>Iranian</td>\n      <td>7.3</td>\n      <td>NaN</td>\n      <td>NaN</td>\n      <td>NaN</td>\n      <td>NaN</td>\n      <td>NaN</td>\n      <td>NaN</td>\n      <td>NaN</td>\n      <td>NaN</td>\n      <td>NaN</td>\n      <td>NaN</td>\n    </tr>\n    <tr>\n      <th>3</th>\n      <td>Humber River-Black Creek</td>\n      <td>107725</td>\n      <td>Italian</td>\n      <td>12.8</td>\n      <td>East Indian</td>\n      <td>9.2</td>\n      <td>Jamaican</td>\n      <td>8.5</td>\n      <td>Vietnamese</td>\n      <td>8.0</td>\n      <td>Canadian</td>\n      <td>7.4</td>\n      <td>NaN</td>\n      <td>NaN</td>\n      <td>NaN</td>\n      <td>NaN</td>\n      <td>NaN</td>\n      <td>NaN</td>\n    </tr>\n    <tr>\n      <th>4</th>\n      <td>York Centre</td>\n      <td>103760</td>\n      <td>Filipino</td>\n      <td>17.0</td>\n      <td>Italian</td>\n      <td>13.4</td>\n      <td>Russian</td>\n      <td>9.5</td>\n      <td>Canadian</td>\n      <td>8.6</td>\n      <td>NaN</td>\n      <td>NaN</td>\n      <td>NaN</td>\n      <td>NaN</td>\n      <td>NaN</td>\n      <td>NaN</td>\n      <td>NaN</td>\n      <td>NaN</td>\n    </tr>\n    <tr>\n      <th>5</th>\n      <td>Don Valley West</td>\n      <td>101790</td>\n      <td>English</td>\n      <td>19.2</td>\n      <td>Canadian</td>\n      <td>15.1</td>\n      <td>Scottish</td>\n      <td>14.9</td>\n      <td>Irish</td>\n      <td>14.2</td>\n      <td>Chinese</td>\n      <td>11.2</td>\n      <td>NaN</td>\n      <td>NaN</td>\n      <td>NaN</td>\n      <td>NaN</td>\n      <td>NaN</td>\n      <td>NaN</td>\n    </tr>\n    <tr>\n      <th>6</th>\n      <td>Don Valley East</td>\n      <td>93170</td>\n      <td>East Indian</td>\n      <td>10.6</td>\n      <td>Canadian</td>\n      <td>10.4</td>\n      <td>English</td>\n      <td>10.1</td>\n      <td>Chinese</td>\n      <td>8.9</td>\n      <td>Irish</td>\n      <td>8.1</td>\n      <td>Scottish</td>\n      <td>8.0</td>\n      <td>Filipino</td>\n      <td>7.8</td>\n      <td>NaN</td>\n      <td>NaN</td>\n    </tr>\n  </tbody>\n</table>\n</div>",
                        "text/plain": "                     Riding  Population Ethnic Origin #1  \\\n0                Willowdale      117405          Chinese   \n1         Eglinton-Lawrence      112925         Canadian   \n2          Don Valley North      109060          Chinese   \n3  Humber River-Black Creek      107725          Italian   \n4               York Centre      103760         Filipino   \n5           Don Valley West      101790          English   \n6           Don Valley East       93170      East Indian   \n\n   Ethnic Origin 1 in % Ethnic Origin #2  Ethnic Origin 2 in %  \\\n0                  25.9          Iranian                  12.1   \n1                  14.7          English                  12.6   \n2                  32.4      East Indian                   7.3   \n3                  12.8      East Indian                   9.2   \n4                  17.0          Italian                  13.4   \n5                  19.2         Canadian                  15.1   \n6                  10.6         Canadian                  10.4   \n\n  Ethnic Origin #3  Ethnic Origin 3 in % Ethnic Origin #4  \\\n0           Korean                  10.6              NaN   \n1           Polish                  12.0         Filipino   \n2          Iranian                   7.3              NaN   \n3         Jamaican                   8.5       Vietnamese   \n4          Russian                   9.5         Canadian   \n5         Scottish                  14.9            Irish   \n6          English                  10.1          Chinese   \n\n   Ethnic Origin 4 in % Ethnic Origin #5  Ethnic Origin 5 in %  \\\n0                   NaN              NaN                   NaN   \n1                  11.0         Scottish                   9.7   \n2                   NaN              NaN                   NaN   \n3                   8.0         Canadian                   7.4   \n4                   8.6              NaN                   NaN   \n5                  14.2          Chinese                  11.2   \n6                   8.9            Irish                   8.1   \n\n  Ethnic Origin #6  Ethnic Origin 6 in % Ethnic Origin #7  \\\n0              NaN                   NaN              NaN   \n1          Italian                   9.5            Irish   \n2              NaN                   NaN              NaN   \n3              NaN                   NaN              NaN   \n4              NaN                   NaN              NaN   \n5              NaN                   NaN              NaN   \n6         Scottish                   8.0         Filipino   \n\n   Ethnic Origin 7 in % Ethnic Origin #8  Ethnic Origin 8 in %  \n0                   NaN              NaN                   NaN  \n1                   9.2          Russian                   8.4  \n2                   NaN              NaN                   NaN  \n3                   NaN              NaN                   NaN  \n4                   NaN              NaN                   NaN  \n5                   NaN              NaN                   NaN  \n6                   7.8              NaN                   NaN  "
                    },
                    "execution_count": 13,
                    "metadata": {},
                    "output_type": "execute_result"
                }
            ],
            "source": "#NORTH YORK \nNorth_population_df"
        },
        {
            "cell_type": "code",
            "execution_count": 14,
            "metadata": {},
            "outputs": [],
            "source": "#SCARBOROUGH population distribution by ethnicity \nScar_population_df = pd.read_html(source, header = 0)[14]\nScar_population_df = Scar_population_df.rename(columns={'%':'Ethnic Origin 1 in %', \n                                                      '%.1':'Ethnic Origin 2 in %',\n                                                     '%.2':'Ethnic Origin 3 in %',\n                                                     '%.3':'Ethnic Origin 4 in %',\n                                                     '%.4':'Ethnic Origin 5 in %',\n                                                     '%.5':'Ethnic Origin 6 in %',\n                                                     '%.6':'Ethnic Origin 7 in %',\n                                                     '%.7':'Ethnic Origin 8 in %'})"
        },
        {
            "cell_type": "code",
            "execution_count": 15,
            "metadata": {},
            "outputs": [
                {
                    "data": {
                        "text/html": "<div>\n<style scoped>\n    .dataframe tbody tr th:only-of-type {\n        vertical-align: middle;\n    }\n\n    .dataframe tbody tr th {\n        vertical-align: top;\n    }\n\n    .dataframe thead th {\n        text-align: right;\n    }\n</style>\n<table border=\"1\" class=\"dataframe\">\n  <thead>\n    <tr style=\"text-align: right;\">\n      <th></th>\n      <th>Riding</th>\n      <th>Population</th>\n      <th>Ethnic Origin #1</th>\n      <th>Ethnic Origin 1 in %</th>\n      <th>Ethnic Origin #2</th>\n      <th>Ethnic Origin 2 in %</th>\n      <th>Ethnic Origin #3</th>\n      <th>Ethnic Origin 3 in %</th>\n      <th>Ethnic Origin #4</th>\n      <th>Ethnic Origin 4 in %</th>\n      <th>Ethnic Origin #5</th>\n      <th>Ethnic Origin 5 in %</th>\n      <th>Ethnic Origin #6</th>\n      <th>Ethnic Origin 6 in %</th>\n      <th>Ethnic Origin #7</th>\n      <th>Ethnic Origin 7 in %</th>\n      <th>Ethnic Origin #8</th>\n      <th>Ethnic Origin 8 in %</th>\n    </tr>\n  </thead>\n  <tbody>\n    <tr>\n      <th>0</th>\n      <td>Scarborough Centre</td>\n      <td>110450</td>\n      <td>Filipino</td>\n      <td>13.1</td>\n      <td>East Indian</td>\n      <td>12.2</td>\n      <td>Canadian</td>\n      <td>11.2</td>\n      <td>Chinese</td>\n      <td>10.7</td>\n      <td>English</td>\n      <td>7.8</td>\n      <td>Sri Lankan</td>\n      <td>7.0</td>\n      <td>NaN</td>\n      <td>NaN</td>\n      <td>NaN</td>\n      <td>NaN</td>\n    </tr>\n    <tr>\n      <th>1</th>\n      <td>Scarborough Southwest</td>\n      <td>108295</td>\n      <td>Canadian</td>\n      <td>16.2</td>\n      <td>English</td>\n      <td>14.3</td>\n      <td>Irish</td>\n      <td>11.5</td>\n      <td>Scottish</td>\n      <td>10.9</td>\n      <td>Filipino</td>\n      <td>9.5</td>\n      <td>East Indian</td>\n      <td>8.2</td>\n      <td>Chinese</td>\n      <td>7.2</td>\n      <td>NaN</td>\n      <td>NaN</td>\n    </tr>\n    <tr>\n      <th>2</th>\n      <td>Scarborough-Agincourt</td>\n      <td>104225</td>\n      <td>Chinese</td>\n      <td>47.0</td>\n      <td>East Indian</td>\n      <td>7.4</td>\n      <td>NaN</td>\n      <td>NaN</td>\n      <td>NaN</td>\n      <td>NaN</td>\n      <td>NaN</td>\n      <td>NaN</td>\n      <td>NaN</td>\n      <td>NaN</td>\n      <td>NaN</td>\n      <td>NaN</td>\n      <td>NaN</td>\n      <td>NaN</td>\n    </tr>\n    <tr>\n      <th>3</th>\n      <td>Scarborough-Rouge Park</td>\n      <td>101445</td>\n      <td>East Indian</td>\n      <td>16.7</td>\n      <td>Canadian</td>\n      <td>11.8</td>\n      <td>Sri Lankan</td>\n      <td>11.1</td>\n      <td>English</td>\n      <td>9.8</td>\n      <td>Filipino</td>\n      <td>9.3</td>\n      <td>Jamaican</td>\n      <td>8.4</td>\n      <td>Scottish</td>\n      <td>7.2</td>\n      <td>Irish</td>\n      <td>7.0</td>\n    </tr>\n    <tr>\n      <th>4</th>\n      <td>Scarborough-Guildwood</td>\n      <td>101115</td>\n      <td>East Indian</td>\n      <td>18.0</td>\n      <td>Canadian</td>\n      <td>11.6</td>\n      <td>English</td>\n      <td>9.7</td>\n      <td>Filipino</td>\n      <td>8.5</td>\n      <td>Sri Lankan</td>\n      <td>7.8</td>\n      <td>Chinese</td>\n      <td>7.1</td>\n      <td>Scottish</td>\n      <td>7.0</td>\n      <td>NaN</td>\n      <td>NaN</td>\n    </tr>\n    <tr>\n      <th>5</th>\n      <td>Scarborough North</td>\n      <td>97610</td>\n      <td>Chinese</td>\n      <td>46.6</td>\n      <td>East Indian</td>\n      <td>11.8</td>\n      <td>Sri Lankan</td>\n      <td>9.4</td>\n      <td>NaN</td>\n      <td>NaN</td>\n      <td>NaN</td>\n      <td>NaN</td>\n      <td>NaN</td>\n      <td>NaN</td>\n      <td>NaN</td>\n      <td>NaN</td>\n      <td>NaN</td>\n      <td>NaN</td>\n    </tr>\n  </tbody>\n</table>\n</div>",
                        "text/plain": "                   Riding  Population Ethnic Origin #1  Ethnic Origin 1 in %  \\\n0      Scarborough Centre      110450         Filipino                  13.1   \n1   Scarborough Southwest      108295         Canadian                  16.2   \n2   Scarborough-Agincourt      104225          Chinese                  47.0   \n3  Scarborough-Rouge Park      101445      East Indian                  16.7   \n4   Scarborough-Guildwood      101115      East Indian                  18.0   \n5       Scarborough North       97610          Chinese                  46.6   \n\n  Ethnic Origin #2  Ethnic Origin 2 in % Ethnic Origin #3  \\\n0      East Indian                  12.2         Canadian   \n1          English                  14.3            Irish   \n2      East Indian                   7.4              NaN   \n3         Canadian                  11.8       Sri Lankan   \n4         Canadian                  11.6          English   \n5      East Indian                  11.8       Sri Lankan   \n\n   Ethnic Origin 3 in % Ethnic Origin #4  Ethnic Origin 4 in %  \\\n0                  11.2          Chinese                  10.7   \n1                  11.5         Scottish                  10.9   \n2                   NaN              NaN                   NaN   \n3                  11.1          English                   9.8   \n4                   9.7         Filipino                   8.5   \n5                   9.4              NaN                   NaN   \n\n  Ethnic Origin #5  Ethnic Origin 5 in % Ethnic Origin #6  \\\n0          English                   7.8       Sri Lankan   \n1         Filipino                   9.5      East Indian   \n2              NaN                   NaN              NaN   \n3         Filipino                   9.3         Jamaican   \n4       Sri Lankan                   7.8          Chinese   \n5              NaN                   NaN              NaN   \n\n   Ethnic Origin 6 in % Ethnic Origin #7  Ethnic Origin 7 in %  \\\n0                   7.0              NaN                   NaN   \n1                   8.2          Chinese                   7.2   \n2                   NaN              NaN                   NaN   \n3                   8.4         Scottish                   7.2   \n4                   7.1         Scottish                   7.0   \n5                   NaN              NaN                   NaN   \n\n  Ethnic Origin #8  Ethnic Origin 8 in %  \n0              NaN                   NaN  \n1              NaN                   NaN  \n2              NaN                   NaN  \n3            Irish                   7.0  \n4              NaN                   NaN  \n5              NaN                   NaN  "
                    },
                    "execution_count": 15,
                    "metadata": {},
                    "output_type": "execute_result"
                }
            ],
            "source": "#SCARBOROUGH \nScar_population_df"
        },
        {
            "cell_type": "code",
            "execution_count": 16,
            "metadata": {},
            "outputs": [],
            "source": "#ETOBICOKE & YORK population distribution by ethnicity \nETY_population_df = pd.read_html(source, header = 0)[15]\nETY_population_df = ETY_population_df.rename(columns={'%':'Ethnic Origin 1 in %', \n                                                      '%.1':'Ethnic Origin 2 in %',\n                                                     '%.2':'Ethnic Origin 3 in %',\n                                                     '%.3':'Ethnic Origin 4 in %',\n                                                     '%.4':'Ethnic Origin 5 in %',\n                                                     '%.5':'Ethnic Origin 6 in %',\n                                                     '%.6':'Ethnic Origin 7 in %',\n                                                     '%.7':'Ethnic Origin 8 in %'})"
        },
        {
            "cell_type": "code",
            "execution_count": 17,
            "metadata": {},
            "outputs": [
                {
                    "data": {
                        "text/html": "<div>\n<style scoped>\n    .dataframe tbody tr th:only-of-type {\n        vertical-align: middle;\n    }\n\n    .dataframe tbody tr th {\n        vertical-align: top;\n    }\n\n    .dataframe thead th {\n        text-align: right;\n    }\n</style>\n<table border=\"1\" class=\"dataframe\">\n  <thead>\n    <tr style=\"text-align: right;\">\n      <th></th>\n      <th>Riding</th>\n      <th>Population</th>\n      <th>Ethnic Origin #1</th>\n      <th>Ethnic Origin 1 in %</th>\n      <th>Ethnic Origin #2</th>\n      <th>Ethnic Origin 2 in %</th>\n      <th>Ethnic Origin #3</th>\n      <th>Ethnic Origin 3 in %</th>\n      <th>Ethnic Origin #4</th>\n      <th>Ethnic Origin 4 in %</th>\n      <th>Ethnic Origin #5</th>\n      <th>Ethnic Origin 5 in %</th>\n      <th>Ethnic Origin #6</th>\n      <th>Ethnic Origin 6 in %</th>\n      <th>Ethnic Origin #7</th>\n      <th>Ethnic Origin 7 in %</th>\n      <th>Ethnic Origin #8</th>\n      <th>Ethnic Origin 8 in %</th>\n    </tr>\n  </thead>\n  <tbody>\n    <tr>\n      <th>0</th>\n      <td>Etobicoke-Lakeshore</td>\n      <td>127520</td>\n      <td>English</td>\n      <td>17.1</td>\n      <td>Canadian</td>\n      <td>15.9</td>\n      <td>Irish</td>\n      <td>14.4</td>\n      <td>Scottish</td>\n      <td>13.5</td>\n      <td>Polish</td>\n      <td>9.2</td>\n      <td>Italian</td>\n      <td>9.1</td>\n      <td>Ukrainian</td>\n      <td>7.6</td>\n      <td>German</td>\n      <td>7.1</td>\n    </tr>\n    <tr>\n      <th>1</th>\n      <td>Etobicoke North</td>\n      <td>116960</td>\n      <td>East Indian</td>\n      <td>22.2</td>\n      <td>Canadian</td>\n      <td>7.9</td>\n      <td>NaN</td>\n      <td>NaN</td>\n      <td>NaN</td>\n      <td>NaN</td>\n      <td>NaN</td>\n      <td>NaN</td>\n      <td>NaN</td>\n      <td>NaN</td>\n      <td>NaN</td>\n      <td>NaN</td>\n      <td>NaN</td>\n      <td>NaN</td>\n    </tr>\n    <tr>\n      <th>2</th>\n      <td>Etobicoke Centre</td>\n      <td>116055</td>\n      <td>Italian</td>\n      <td>15.1</td>\n      <td>English</td>\n      <td>14.3</td>\n      <td>Canadian</td>\n      <td>12.1</td>\n      <td>Irish</td>\n      <td>10.8</td>\n      <td>Scottish</td>\n      <td>10.4</td>\n      <td>Ukrainian</td>\n      <td>8.1</td>\n      <td>Polish</td>\n      <td>7.4</td>\n      <td>NaN</td>\n      <td>NaN</td>\n    </tr>\n    <tr>\n      <th>3</th>\n      <td>York South-Weston</td>\n      <td>115130</td>\n      <td>Portuguese</td>\n      <td>14.5</td>\n      <td>Italian</td>\n      <td>12.8</td>\n      <td>Canadian</td>\n      <td>8.7</td>\n      <td>Jamaican</td>\n      <td>8.4</td>\n      <td>NaN</td>\n      <td>NaN</td>\n      <td>NaN</td>\n      <td>NaN</td>\n      <td>NaN</td>\n      <td>NaN</td>\n      <td>NaN</td>\n      <td>NaN</td>\n    </tr>\n  </tbody>\n</table>\n</div>",
                        "text/plain": "                Riding  Population Ethnic Origin #1  Ethnic Origin 1 in %  \\\n0  Etobicoke-Lakeshore      127520          English                  17.1   \n1      Etobicoke North      116960      East Indian                  22.2   \n2     Etobicoke Centre      116055          Italian                  15.1   \n3    York South-Weston      115130       Portuguese                  14.5   \n\n  Ethnic Origin #2  Ethnic Origin 2 in % Ethnic Origin #3  \\\n0         Canadian                  15.9            Irish   \n1         Canadian                   7.9              NaN   \n2          English                  14.3         Canadian   \n3          Italian                  12.8         Canadian   \n\n   Ethnic Origin 3 in % Ethnic Origin #4  Ethnic Origin 4 in %  \\\n0                  14.4         Scottish                  13.5   \n1                   NaN              NaN                   NaN   \n2                  12.1            Irish                  10.8   \n3                   8.7         Jamaican                   8.4   \n\n  Ethnic Origin #5  Ethnic Origin 5 in % Ethnic Origin #6  \\\n0           Polish                   9.2          Italian   \n1              NaN                   NaN              NaN   \n2         Scottish                  10.4        Ukrainian   \n3              NaN                   NaN              NaN   \n\n   Ethnic Origin 6 in % Ethnic Origin #7  Ethnic Origin 7 in %  \\\n0                   9.1        Ukrainian                   7.6   \n1                   NaN              NaN                   NaN   \n2                   8.1           Polish                   7.4   \n3                   NaN              NaN                   NaN   \n\n  Ethnic Origin #8  Ethnic Origin 8 in %  \n0           German                   7.1  \n1              NaN                   NaN  \n2              NaN                   NaN  \n3              NaN                   NaN  "
                    },
                    "execution_count": 17,
                    "metadata": {},
                    "output_type": "execute_result"
                }
            ],
            "source": "#ETOBICOKE & YORK \nETY_population_df"
        },
        {
            "cell_type": "code",
            "execution_count": null,
            "metadata": {},
            "outputs": [],
            "source": ""
        },
        {
            "cell_type": "markdown",
            "metadata": {},
            "source": "#### B.2.d. Toronto's Venues Locations, Names, Categories, Location (in Latitude and Longitude) \n#### via Foursquare's explore API \n\nUsing FourSquare API, we can find explore neighborhoods in Toronto and what kind of venues reside in each neighborhood. "
        },
        {
            "cell_type": "code",
            "execution_count": 18,
            "metadata": {},
            "outputs": [
                {
                    "name": "stdout",
                    "output_type": "stream",
                    "text": "Requirement already satisfied: geopy in /opt/conda/envs/Python36/lib/python3.6/site-packages (2.0.0)\nRequirement already satisfied: geographiclib<2,>=1.49 in /opt/conda/envs/Python36/lib/python3.6/site-packages (from geopy) (1.50)\n"
                }
            ],
            "source": "#Install Dependencies \n!pip install geopy\nfrom geopy.geocoders import Nominatim "
        },
        {
            "cell_type": "code",
            "execution_count": 19,
            "metadata": {},
            "outputs": [],
            "source": "#Use geopy library to get the latitude and longitude values of Toronto \naddress = 'Toronto'\n\ngeolocator = Nominatim(user_agent=\"ny_explorer\")\nlocation = geolocator.geocode(address)\nlatitude = location.latitude\nlongitude = location.longitude"
        },
        {
            "cell_type": "code",
            "execution_count": 20,
            "metadata": {},
            "outputs": [
                {
                    "name": "stdout",
                    "output_type": "stream",
                    "text": "Requirement already satisfied: folium in /opt/conda/envs/Python36/lib/python3.6/site-packages (0.11.0)\nRequirement already satisfied: numpy in /opt/conda/envs/Python36/lib/python3.6/site-packages (from folium) (1.15.4)\nRequirement already satisfied: branca>=0.3.0 in /opt/conda/envs/Python36/lib/python3.6/site-packages (from folium) (0.4.1)\nRequirement already satisfied: jinja2>=2.9 in /opt/conda/envs/Python36/lib/python3.6/site-packages (from folium) (2.10)\nRequirement already satisfied: requests in /opt/conda/envs/Python36/lib/python3.6/site-packages (from folium) (2.21.0)\nRequirement already satisfied: MarkupSafe>=0.23 in /opt/conda/envs/Python36/lib/python3.6/site-packages (from jinja2>=2.9->folium) (1.1.0)\nRequirement already satisfied: certifi>=2017.4.17 in /opt/conda/envs/Python36/lib/python3.6/site-packages (from requests->folium) (2020.6.20)\nRequirement already satisfied: chardet<3.1.0,>=3.0.2 in /opt/conda/envs/Python36/lib/python3.6/site-packages (from requests->folium) (3.0.4)\nRequirement already satisfied: urllib3<1.25,>=1.21.1 in /opt/conda/envs/Python36/lib/python3.6/site-packages (from requests->folium) (1.24.1)\nRequirement already satisfied: idna<2.9,>=2.5 in /opt/conda/envs/Python36/lib/python3.6/site-packages (from requests->folium) (2.8)\n"
                }
            ],
            "source": "#Folium is a great visualization library. \n#It has the ability zoom in/out of map, and click on each circle mark to reveal the name of the \n#neighborhood and its respective borough.\n\n!pip install folium\nimport folium "
        },
        {
            "cell_type": "code",
            "execution_count": 21,
            "metadata": {},
            "outputs": [
                {
                    "name": "stdout",
                    "output_type": "stream",
                    "text": "Requirement already satisfied: requests in /opt/conda/envs/Python36/lib/python3.6/site-packages (2.21.0)\nRequirement already satisfied: certifi>=2017.4.17 in /opt/conda/envs/Python36/lib/python3.6/site-packages (from requests) (2020.6.20)\nRequirement already satisfied: urllib3<1.25,>=1.21.1 in /opt/conda/envs/Python36/lib/python3.6/site-packages (from requests) (1.24.1)\nRequirement already satisfied: idna<2.9,>=2.5 in /opt/conda/envs/Python36/lib/python3.6/site-packages (from requests) (2.8)\nRequirement already satisfied: chardet<3.1.0,>=3.0.2 in /opt/conda/envs/Python36/lib/python3.6/site-packages (from requests) (3.0.4)\n/usr/bin/sh: pipenv: command not found\n"
                }
            ],
            "source": "#We are using a 1 Km Radius \n# Punch in my Foursquare Information\nCLIENT_ID = 'QEF4SFROUUVOQKNPAFNNRDUW4ACAWSYYG312LM3BKEDDKPIZ' \nCLIENT_SECRET = 'CCBFW1WDVTUYDLPFX3SR0QBB5R2UKRYOZ3F1JDJ3PLQMPDRM' \nVERSION = '20180604'\n\n!pip install requests \n!pipenv install requests\nimport requests\n\nradius=1000\nurl = 'https://api.foursquare.com/v2/venues/explore?client_id={}&client_secret={}&ll={},{}&v={}&radius={}'.format(CLIENT_ID, CLIENT_SECRET, latitude, longitude, VERSION, radius)\nresults = requests.get(url).json()\n\n\ndef get_category_type(row):\n    try:\n        categories_list = row['categories']\n    except:\n        categories_list = row['venue.categories']\n\n    if len(categories_list) == 0:\n        return None\n    else:\n        return categories_list[0]['name']"
        },
        {
            "cell_type": "code",
            "execution_count": 22,
            "metadata": {},
            "outputs": [],
            "source": "#The API returned a JSON file. \n#Now we turn it into a pandas data frame. "
        },
        {
            "cell_type": "code",
            "execution_count": 23,
            "metadata": {},
            "outputs": [],
            "source": "#Install Dependencies \nimport json\nfrom pandas.io.json import json_normalize\n\n#Panda Data Frame \nvenues = results['response']['groups'][0]['items']\n\nnearby_venues = json_normalize(venues) # flatten JSON\nfiltered_columns = ['venue.name', 'venue.categories', 'venue.location.lat', 'venue.location.lng']\nnearby_venues =nearby_venues.loc[:, filtered_columns]\nnearby_venues['venue.categories'] = nearby_venues.apply(get_category_type, axis=1)\nnearby_venues.columns = [col.split(\".\")[-1] for col in nearby_venues.columns]"
        },
        {
            "cell_type": "code",
            "execution_count": 24,
            "metadata": {},
            "outputs": [
                {
                    "data": {
                        "text/html": "<div>\n<style scoped>\n    .dataframe tbody tr th:only-of-type {\n        vertical-align: middle;\n    }\n\n    .dataframe tbody tr th {\n        vertical-align: top;\n    }\n\n    .dataframe thead th {\n        text-align: right;\n    }\n</style>\n<table border=\"1\" class=\"dataframe\">\n  <thead>\n    <tr style=\"text-align: right;\">\n      <th></th>\n      <th>name</th>\n      <th>categories</th>\n      <th>lat</th>\n      <th>lng</th>\n    </tr>\n  </thead>\n  <tbody>\n    <tr>\n      <th>0</th>\n      <td>Downtown Toronto</td>\n      <td>Neighborhood</td>\n      <td>43.653232</td>\n      <td>-79.385296</td>\n    </tr>\n    <tr>\n      <th>1</th>\n      <td>Nathan Phillips Square</td>\n      <td>Plaza</td>\n      <td>43.652270</td>\n      <td>-79.383516</td>\n    </tr>\n    <tr>\n      <th>2</th>\n      <td>Indigo</td>\n      <td>Bookstore</td>\n      <td>43.653515</td>\n      <td>-79.380696</td>\n    </tr>\n    <tr>\n      <th>3</th>\n      <td>Chatime \u65e5\u51fa\u8336\u592a</td>\n      <td>Bubble Tea Shop</td>\n      <td>43.655542</td>\n      <td>-79.384684</td>\n    </tr>\n    <tr>\n      <th>4</th>\n      <td>Textile Museum of Canada</td>\n      <td>Art Museum</td>\n      <td>43.654396</td>\n      <td>-79.386500</td>\n    </tr>\n  </tbody>\n</table>\n</div>",
                        "text/plain": "                       name       categories        lat        lng\n0          Downtown Toronto     Neighborhood  43.653232 -79.385296\n1    Nathan Phillips Square            Plaza  43.652270 -79.383516\n2                    Indigo        Bookstore  43.653515 -79.380696\n3              Chatime \u65e5\u51fa\u8336\u592a  Bubble Tea Shop  43.655542 -79.384684\n4  Textile Museum of Canada       Art Museum  43.654396 -79.386500"
                    },
                    "execution_count": 24,
                    "metadata": {},
                    "output_type": "execute_result"
                }
            ],
            "source": "#Data Sample \nnearby_venues.head()"
        },
        {
            "cell_type": "code",
            "execution_count": 25,
            "metadata": {},
            "outputs": [],
            "source": "#Continue to look for nearby venues\ndef getNearbyVenues(names, latitudes, longitudes, radius=500):\n    \n    venues_list=[]\n    for name, lat, lng in zip(names, latitudes, longitudes):\n        print(name)\n            \n        # create the API request URL\n        url = 'https://api.foursquare.com/v2/venues/explore?&client_id={}&client_secret={}&v={}&ll={},{}&radius={}&limit={}'.format(\n            CLIENT_ID, \n            CLIENT_SECRET, \n            VERSION, \n            lat, \n            lng, \n            radius, \n            LIMIT)\n            \n        # make the GET request\n        results = requests.get(url).json()[\"response\"]['groups'][0]['items']\n        \n        # return only relevant information for each nearby venue\n        venues_list.append([(\n            name, \n            lat, \n            lng, \n            v['venue']['name'], \n            v['venue']['location']['lat'], \n            v['venue']['location']['lng'],  \n            v['venue']['categories'][0]['name']) for v in results])\n\n    nearby_venues = pd.DataFrame([item for venue_list in venues_list for item in venue_list])\n    nearby_venues.columns = ['Neighborhood', \n                  'Neighborhood Latitude', \n                  'Neighborhood Longitude', \n                  'Venue', \n                  'Venue Latitude', \n                  'Venue Longitude', \n                  'Venue Category']\n    \n    return(nearby_venues)"
        },
        {
            "cell_type": "code",
            "execution_count": 26,
            "metadata": {},
            "outputs": [
                {
                    "name": "stdout",
                    "output_type": "stream",
                    "text": "Lawrence Park\nDavisville North\nNorth Toronto West, Lawrence Park\nDavisville\nMoore Park, Summerhill East\nSummerhill West, Rathnelly, South Hill, Forest Hill SE, Deer Park\nRoselawn\nForest Hill North & West, Forest Hill Road Park\nThe Annex, North Midtown, Yorkville\nRosedale\nSt. James Town, Cabbagetown\nChurch and Wellesley\nRegent Park, Harbourfront\n"
                },
                {
                    "ename": "KeyError",
                    "evalue": "'groups'",
                    "output_type": "error",
                    "traceback": [
                        "\u001b[0;31m---------------------------------------------------------------------------\u001b[0m",
                        "\u001b[0;31mKeyError\u001b[0m                                  Traceback (most recent call last)",
                        "\u001b[0;32m<ipython-input-26-f7075a8c3577>\u001b[0m in \u001b[0;36m<module>\u001b[0;34m\u001b[0m\n\u001b[1;32m      3\u001b[0m toronto_venues = getNearbyVenues(names=toronto_DF['Neighborhood'],\n\u001b[1;32m      4\u001b[0m                                    \u001b[0mlatitudes\u001b[0m\u001b[0;34m=\u001b[0m\u001b[0mtoronto_DF\u001b[0m\u001b[0;34m[\u001b[0m\u001b[0;34m'Latitude'\u001b[0m\u001b[0;34m]\u001b[0m\u001b[0;34m,\u001b[0m\u001b[0;34m\u001b[0m\u001b[0;34m\u001b[0m\u001b[0m\n\u001b[0;32m----> 5\u001b[0;31m                                    longitudes=toronto_DF['Longitude'])\n\u001b[0m",
                        "\u001b[0;32m<ipython-input-25-90ba5a7f0bdb>\u001b[0m in \u001b[0;36mgetNearbyVenues\u001b[0;34m(names, latitudes, longitudes, radius)\u001b[0m\n\u001b[1;32m     17\u001b[0m \u001b[0;34m\u001b[0m\u001b[0m\n\u001b[1;32m     18\u001b[0m         \u001b[0;31m# make the GET request\u001b[0m\u001b[0;34m\u001b[0m\u001b[0;34m\u001b[0m\u001b[0;34m\u001b[0m\u001b[0m\n\u001b[0;32m---> 19\u001b[0;31m         \u001b[0mresults\u001b[0m \u001b[0;34m=\u001b[0m \u001b[0mrequests\u001b[0m\u001b[0;34m.\u001b[0m\u001b[0mget\u001b[0m\u001b[0;34m(\u001b[0m\u001b[0murl\u001b[0m\u001b[0;34m)\u001b[0m\u001b[0;34m.\u001b[0m\u001b[0mjson\u001b[0m\u001b[0;34m(\u001b[0m\u001b[0;34m)\u001b[0m\u001b[0;34m[\u001b[0m\u001b[0;34m\"response\"\u001b[0m\u001b[0;34m]\u001b[0m\u001b[0;34m[\u001b[0m\u001b[0;34m'groups'\u001b[0m\u001b[0;34m]\u001b[0m\u001b[0;34m[\u001b[0m\u001b[0;36m0\u001b[0m\u001b[0;34m]\u001b[0m\u001b[0;34m[\u001b[0m\u001b[0;34m'items'\u001b[0m\u001b[0;34m]\u001b[0m\u001b[0;34m\u001b[0m\u001b[0;34m\u001b[0m\u001b[0m\n\u001b[0m\u001b[1;32m     20\u001b[0m \u001b[0;34m\u001b[0m\u001b[0m\n\u001b[1;32m     21\u001b[0m         \u001b[0;31m# return only relevant information for each nearby venue\u001b[0m\u001b[0;34m\u001b[0m\u001b[0;34m\u001b[0m\u001b[0;34m\u001b[0m\u001b[0m\n",
                        "\u001b[0;31mKeyError\u001b[0m: 'groups'"
                    ]
                }
            ],
            "source": "#Im going to look for the Top 100 venues \nLIMIT = 100\ntoronto_venues = getNearbyVenues(names=toronto_DF['Neighborhood'],\n                                   latitudes=toronto_DF['Latitude'],\n                                   longitudes=toronto_DF['Longitude'])"
        },
        {
            "cell_type": "code",
            "execution_count": null,
            "metadata": {},
            "outputs": [],
            "source": "#Data Sample \ntoronto_venues.head()"
        },
        {
            "cell_type": "code",
            "execution_count": null,
            "metadata": {},
            "outputs": [],
            "source": "#I want to see how many existing Venue Categories (e.g. Park, Swim School, Hotel, Gym, etc)\ntoronto_venues.groupby('Neighborhood').count()"
        },
        {
            "cell_type": "code",
            "execution_count": null,
            "metadata": {},
            "outputs": [],
            "source": "print('There are {} uniques categories.'.format(len(toronto_venues['Venue Category'].unique())))"
        },
        {
            "cell_type": "code",
            "execution_count": null,
            "metadata": {},
            "outputs": [],
            "source": "#Calculate the mean of all venue groupby in each neighborhood\ntoronto_onehot = pd.get_dummies(toronto_venues[['Venue Category']], prefix=\"\", prefix_sep=\"\")\n\ntoronto_onehot['Neighborhood'] = toronto_venues['Neighborhood']\n\nfixed_columns = [toronto_onehot.columns[-1]] + list(toronto_onehot.columns[:-1])\ntoronto_onehot = toronto_onehot[fixed_columns]\ntoronto_grouped = toronto_onehot.groupby('Neighborhood').mean().reset_index()\ntoronto_grouped"
        },
        {
            "cell_type": "code",
            "execution_count": null,
            "metadata": {},
            "outputs": [],
            "source": "#Let's see how many categories there are\nprint (toronto_venues['Venue Category'].value_counts())"
        },
        {
            "cell_type": "code",
            "execution_count": null,
            "metadata": {},
            "outputs": [],
            "source": ""
        },
        {
            "cell_type": "markdown",
            "metadata": {},
            "source": "## C. Methodology \n#### *Represents the main component of the report where you discuss\n#### Describe any exploratory data analysis that you did, any inferential statistical testing that you performed, if any, and what machine learnings were used and why."
        },
        {
            "cell_type": "code",
            "execution_count": null,
            "metadata": {},
            "outputs": [],
            "source": ""
        },
        {
            "cell_type": "markdown",
            "metadata": {},
            "source": "### C. Methodology: Exploratory Data Analysis "
        },
        {
            "cell_type": "code",
            "execution_count": null,
            "metadata": {},
            "outputs": [],
            "source": ""
        },
        {
            "cell_type": "markdown",
            "metadata": {},
            "source": "### C.1 Folium\n- Folium is a great visualization python library . \n- It has the ability zoom in/out of map, and click on each circle mark to reveal the name of the neighborhood and its respective borough.\n\nGoal: Create a interactive leaflet map using our coordinate data "
        },
        {
            "cell_type": "code",
            "execution_count": null,
            "metadata": {},
            "outputs": [],
            "source": "# create map of Toronto using latitude and longitude\nmap_toronto = folium.Map(location=[latitude, longitude], zoom_start=10)\n\n# add markers to map\nfor lat, lng, borough, neighborhood in zip(toronto_DF['Latitude'], toronto_DF['Longitude'], toronto_DF['Borough'], toronto_DF['Neighborhood']):\n    label = '{},{}'.format(neighborhood, borough)\n    label = folium.Popup(label, parse_html=True)\n    folium.CircleMarker(\n        [lat, lng],\n        radius=5,\n        popup=label,\n        color='yellow',\n        fill=True,\n        fill_color='#3186cc',\n        fill_opacity=0.7,\n        parse_html=False).add_to(map_toronto)  \n    \nmap_toronto"
        },
        {
            "cell_type": "code",
            "execution_count": null,
            "metadata": {},
            "outputs": [],
            "source": ""
        },
        {
            "cell_type": "markdown",
            "metadata": {},
            "source": "### C.2 Relationship between Neighborhood and Chinese Restaurant \n"
        },
        {
            "cell_type": "code",
            "execution_count": null,
            "metadata": {},
            "outputs": [],
            "source": ""
        },
        {
            "cell_type": "markdown",
            "metadata": {},
            "source": "#### C.2.a Data Frame \nGoal: Add to our dataframe (Borough, Postal Code, Neighborhood, Latitude, Longitude) with the following columns: \n- Cluster Labels \n- Chinese Restaurant (the mean of venue groupby) "
        },
        {
            "cell_type": "code",
            "execution_count": null,
            "metadata": {},
            "outputs": [],
            "source": "#Create a Dataframe with the columns : Neighborhood, Chinese Restaurant \ntoronto_part = toronto_grouped[['Neighborhood', 'Chinese Restaurant']]\n#Data Sample\ntoronto_part.head()"
        },
        {
            "cell_type": "code",
            "execution_count": null,
            "metadata": {},
            "outputs": [],
            "source": "#Add Dataframe (Toronto Part)[Neighborhood, Chinese Restaurant] to \n# Dataframe(Toronto DF)[Borough, Postal Code, Neighborhood, Latitude, Longitude]\ntoronto_merged = pd.merge(toronto_DF, toronto_part, on='Neighborhood')\n#Data Sample\ntoronto_merged"
        },
        {
            "cell_type": "code",
            "execution_count": null,
            "metadata": {},
            "outputs": [],
            "source": ""
        },
        {
            "cell_type": "markdown",
            "metadata": {},
            "source": "#### C.2.b Bar Charts \nGoal: Identify which specific neighborhoods have the highest mean of chinese restaurants "
        },
        {
            "cell_type": "code",
            "execution_count": null,
            "metadata": {},
            "outputs": [],
            "source": "#Create Plot with Neighborhood vs. Chinese Restaurant (Mean)\n#fig = plt.figure(figsize=(19,9))\n\n#sns.set(font_scale=1.1)\n#sns.violinplot(y=\"Chinese Restaurant\", x=\"Borough\", data=toronto_merged, cut=0);\n\n#plt.title('Mean of Chinese restaurants in each Borough (Toronto, Canada)', fontsize=15)\n#plt.show()"
        },
        {
            "cell_type": "code",
            "execution_count": null,
            "metadata": {},
            "outputs": [],
            "source": "#With boroughs visualized, now we will continue with Neighborhood\n\nimport matplotlib.pyplot as plt\n\ngraph = pd.DataFrame(toronto_onehot.groupby('Neighborhood')['Chinese Restaurant'].sum())\ngraph = graph.sort_values(by ='Chinese Restaurant', ascending=False)\ngraph.iloc[:14].plot(kind='bar', figsize=(20,10))\nplt.xlabel(\"Neighborhoods\")\nplt.ylabel(\"Number of Chinese Restaurant\")\nplt.title(\"Neighborhoods vs Number of Chinese Restaurant\")\nplt.show()"
        },
        {
            "cell_type": "code",
            "execution_count": null,
            "metadata": {},
            "outputs": [],
            "source": ""
        },
        {
            "cell_type": "markdown",
            "metadata": {},
            "source": "### C.3 Relationship between Neighborhood and Chinese Population\nFun Fact 1: The Chinese Population Group made up for 11.1% of Toronto's total population (in 2016)\n\nFun Fact 2: A Riding is an electoral district in Canada (also known as a \"constituency\"). It is a geographical constituency upon which Canada's representative democracy is based. \nIn our case, a Riding can contain more than one neighborhood. \n\nGoal: Identify which specific ridings have the highest ethnic percentage. \n\nIn Section B.2.c. Population Distribution by Ethnic Diversity, we created four dataframes for each federal electoral district:\n- #TORONTO & EAST YORK (TEY_population_df)\n- #NORTH YORK (North_population_df)\n- #SCARBOROUGH (Scar_population_df)\n- #ETOBICOKE & YORK (ETY_population_df)"
        },
        {
            "cell_type": "code",
            "execution_count": null,
            "metadata": {},
            "outputs": [],
            "source": ""
        },
        {
            "cell_type": "markdown",
            "metadata": {},
            "source": "#### C.3.a Dataframe \nGoal: Simplify and create new dataframe with the following columns:\nRidings, Chinese Population"
        },
        {
            "cell_type": "code",
            "execution_count": null,
            "metadata": {},
            "outputs": [],
            "source": "#Merge all four dataframes \nET = ETY_population_df.append(TEY_population_df,sort=True).reset_index()\nET.drop('index',axis=1,inplace=True)\nSN = North_population_df.append(Scar_population_df,sort=True).reset_index()\nSN.drop('index',axis=1,inplace=True)\npop_ethnic_df = SN.append(ET,sort=True).reset_index()\npop_ethnic_df.drop('index',axis=1,inplace=True)\npop_ethnic_df = pop_ethnic_df[['Riding', \n                               'Population',\n                               'Ethnic Origin #1', 'Ethnic Origin 1 in %',\n                               'Ethnic Origin #2', 'Ethnic Origin 2 in %',\n                               'Ethnic Origin #3', 'Ethnic Origin 3 in %',\n                               'Ethnic Origin #4', 'Ethnic Origin 4 in %',\n                               'Ethnic Origin #5', 'Ethnic Origin 5 in %', \n                               'Ethnic Origin #6', 'Ethnic Origin 6 in %',\n                               'Ethnic Origin #7', 'Ethnic Origin 7 in %',\n                               'Ethnic Origin #8', 'Ethnic Origin 8 in %',\n                               'Ethnic Origin #9', 'Ethnic Origin 9 in %', ]]\n\n#Now we have a dataframe with important columns: \n#Riding, Population, Ethnic Origin # in Percentage\npop_ethnic_df"
        },
        {
            "cell_type": "code",
            "execution_count": null,
            "metadata": {},
            "outputs": [],
            "source": "#We're going to create a new dataframe(pop_chinese_df) \n#where the Ethnic Origin (from #1-#9) has at least one \"Chinese\" group\ntemp = pop_ethnic_df.loc[(pop_ethnic_df['Ethnic Origin #1'] == 'Chinese')| \n                                      (pop_ethnic_df['Ethnic Origin #2'] == 'Chinese')|\n                                      (pop_ethnic_df['Ethnic Origin #3'] == 'Chinese')|\n                                      (pop_ethnic_df['Ethnic Origin #4'] == 'Chinese')|\n                                      (pop_ethnic_df['Ethnic Origin #5'] == 'Chinese')|\n                                      (pop_ethnic_df['Ethnic Origin #6'] == 'Chinese')|\n                                      (pop_ethnic_df['Ethnic Origin #7'] == 'Chinese')|\n                                      (pop_ethnic_df['Ethnic Origin #8'] == 'Chinese')|\n                                      (pop_ethnic_df['Ethnic Origin #9'] == 'Chinese')]\npop_chinese_df = pd.DataFrame(temp).reset_index()\npop_chinese_df.drop('index',axis=1,inplace=True)\n\n#Data Sample \npop_chinese_df.head()"
        },
        {
            "cell_type": "code",
            "execution_count": null,
            "metadata": {},
            "outputs": [],
            "source": "#Simplify our previous dataframe into the following columns: \n#Ethnicity, Percentage, Population, Riding\ncolumns_list = pop_chinese_df.columns.to_list()\npop_chinese_DF_with_percent = pd.DataFrame()\n\ndel columns_list[0]\ndel columns_list[0]\n\nfor i in range(0,pop_chinese_df.shape[0]):\n    for j in columns_list:\n        print(j)\n        if pop_chinese_df.at[i, j] == 'Chinese':\n            k = columns_list.index(j) + 1\n            percent_col = columns_list[k]\n            pop_chinese_DF_with_percent = pop_chinese_DF_with_percent.append(\n                {'Riding':pop_chinese_df.at[i, 'Riding'], \n                 'Population':pop_chinese_df.at[i, 'Population'], \n                 'Ethnicity': pop_chinese_df.at[i, j], \n                 'Percentage': pop_chinese_df.at[i, percent_col]},\n                  ignore_index=True)\n\n#Data Sample \n#Should be having only Chinese Ethnicity with their respective percentage, population and riding \npop_chinese_DF_with_percent.head()"
        },
        {
            "cell_type": "code",
            "execution_count": null,
            "metadata": {},
            "outputs": [],
            "source": "#Simplify our previous dataframe into the following columns: \n#Population, Riding\npop_chinese_DF_with_percent['Chinese Population'] = (pop_chinese_DF_with_percent['Percentage'] * pop_chinese_DF_with_percent['Population'])/100\npop_chinese_DF_with_percent.drop(columns={'Percentage','Population','Ethnicity'},axis=1, inplace =True)\npop_chinese_DF_with_percent.drop_duplicates(keep='first',inplace=True) \n\n#Data Sample\npop_chinese_DF_with_percent.head()"
        },
        {
            "cell_type": "code",
            "execution_count": null,
            "metadata": {},
            "outputs": [],
            "source": ""
        },
        {
            "cell_type": "markdown",
            "metadata": {},
            "source": "#### C.3.b Bar Plot \nGoal: Create a visual to identify the highly populated chinese neighborhoods in terms of numbers which neighborhood has the largest chinese population terms of numbers. "
        },
        {
            "cell_type": "code",
            "execution_count": null,
            "metadata": {},
            "outputs": [],
            "source": "#Create Bar graph / plot \n\n%matplotlib inline\nimport matplotlib as mpl\nimport seaborn as sns\n\n\nbar_graph = pop_chinese_DF_with_percent.sort_values(by='Chinese Population', ascending=False)\nbar_graph.plot(kind='bar',x='Riding', y='Chinese Population',figsize=(12,8), color='red')\nplt.xlabel(\"Neighborhoods\")\nplt.ylabel(\"Population\")\nplt.show()"
        },
        {
            "cell_type": "code",
            "execution_count": null,
            "metadata": {},
            "outputs": [],
            "source": ""
        },
        {
            "cell_type": "markdown",
            "metadata": {},
            "source": "### C.4 Relationship between Chinese Population and Chinese Restaurants \n\nWe created two dataframes from the following sections:\nC.2 Relationship between Neighborhood and Chinese Restaurant \nC.3 Relationship between Neighborhood and Chinese Population \n\nGoal: Identify which specific neighborhoods have the highest number of chinese restaurants "
        },
        {
            "cell_type": "code",
            "execution_count": null,
            "metadata": {},
            "outputs": [],
            "source": "#In order to change \"Riding\" to \"Neighborhood\", we have to alter the list to match the wikipedia list\n#so that we can retrieve the neighborhood present in each riding\nriding_list = pop_chinese_DF_with_percent['Riding'].to_list()\nriding_list[riding_list.index('Scarborough Centre')] = 'Scarborough Centre (electoral district)'\nriding_list[riding_list.index('Scarborough North')] = 'Scarborough North (electoral district)'\nriding_list"
        },
        {
            "cell_type": "code",
            "execution_count": null,
            "metadata": {},
            "outputs": [],
            "source": "#Scraping wiki page to get the neighborhoods of ech Ridings\nimport wikipedia\n\nRiding_neighborhood_df = pd.DataFrame()\n\nfor item in riding_list:\n        if item == \"Willowdale\":\n            item = \"Willowdale (electoral district)\"\n            \n        section = wikipedia.WikipediaPage(item).section('Geography')\n        if section is None:\n            continue\n            \n        start = section.index('neighbourhoods of') + 17\n        \n        stop = section.index('.',start)\n        Riding_neighborhood_df = Riding_neighborhood_df.append({'Riding':item, 'Neighborhoods':section[start:stop]},ignore_index=True)\n        \n        \nRiding_neighborhood_df = Riding_neighborhood_df[['Riding','Neighborhoods']]\nRiding_neighborhood_df"
        },
        {
            "cell_type": "code",
            "execution_count": null,
            "metadata": {},
            "outputs": [],
            "source": "#Merge and simplify the previous dataframes \n#to create a dataframe with [Chinese Population, Neighborhoods]\n#(Goodbye Ridings!)\nNeigh_pop = pd.merge(pop_chinese_DF_with_percent, Riding_neighborhood_df, on='Riding')\nNeigh_pop.drop(columns=['Riding'],inplace =True)\n\nNeigh_pop['split_neighborhoods'] = Neigh_pop['Neighborhoods'].str.split(',') \nNeigh_pop.drop(columns=['Neighborhoods'],inplace=True,axis=1)\nNeigh_pop = Neigh_pop.split_neighborhoods.apply(pd.Series).merge(Neigh_pop, left_index = True, right_index = True).drop([\"split_neighborhoods\"], axis = 1)\\\n                    .melt(id_vars = ['Chinese Population'], value_name = \"Neighborhood\").drop(\"variable\", axis = 1).dropna()\n\nNeigh_pop.reset_index()\n\n#Data Sample\nNeigh_pop.head()"
        },
        {
            "cell_type": "code",
            "execution_count": null,
            "metadata": {},
            "outputs": [],
            "source": "#Create a Data Frame with [Chinese Restaurant, Neighborhood]\ntoronto_part['split_neighborhoods'] = toronto_part['Neighborhood'].str.split(',') \ntoronto_part.drop(columns=['Neighborhood'],inplace=True,axis=1)\ntoronto_part = toronto_part.split_neighborhoods.apply(pd.Series).merge(toronto_part, left_index = True, right_index = True).drop([\"split_neighborhoods\"], axis = 1)\\\n                    .melt(id_vars = ['Chinese Restaurant'], value_name = \"Neighborhood\").drop(\"variable\", axis = 1).dropna()\n\ntoronto_part.reset_index()\n\n#Data Sample\ntoronto_part.head()"
        },
        {
            "cell_type": "code",
            "execution_count": null,
            "metadata": {},
            "outputs": [],
            "source": "#Merge the previous dataframes\n#to create a dataframe [Chinese Population, Chinese Restaurant, Neighborhood]\npop_merged_restaurant_percent = pd.merge(Neigh_pop, toronto_part, on='Neighborhood')\n\n#Data Sample \npop_merged_restaurant_percent.head()"
        },
        {
            "cell_type": "code",
            "execution_count": null,
            "metadata": {},
            "outputs": [],
            "source": ""
        },
        {
            "cell_type": "markdown",
            "metadata": {},
            "source": "### C. Methodology:  Inferential Statistical Testing / Predictive Modeling\nIn our exloratory data section, there is no giant correlation between the Chinese population & the populatiry in Chinese restaurants.\n\nSo we will look into predictive modelling and K-means clustering techniques. "
        },
        {
            "cell_type": "code",
            "execution_count": null,
            "metadata": {},
            "outputs": [],
            "source": ""
        },
        {
            "cell_type": "markdown",
            "metadata": {},
            "source": "### C.5 Clustering "
        },
        {
            "cell_type": "code",
            "execution_count": null,
            "metadata": {},
            "outputs": [],
            "source": ""
        },
        {
            "cell_type": "markdown",
            "metadata": {},
            "source": "#### C.5.a K-Value \nGoal: Idenfify K-value aka the number of clusters in a given dataset. "
        },
        {
            "cell_type": "code",
            "execution_count": null,
            "metadata": {},
            "outputs": [],
            "source": "#Install Dependencies \nfrom sklearn.cluster import KMeans\n\n#Use the Data Frame with [Chinese Restaurant, Neighborhood] \ntoronto_part_clustering = toronto_part.drop('Neighborhood', 1)\n\nerror_cost = []\n\nfor i in range(3,11):\n    KM = KMeans(n_clusters = i, max_iter = 100)\n    try:\n        KM.fit(toronto_part_clustering)\n    except ValueError:\n        print(\"error on line\",i)\n    \n    #calculate squared error for the clustered points\n    error_cost.append(KM.inertia_/100)\n\n#plot the K values aganist the squared error cost\nplt.plot(range(3,11), error_cost, color='r', linewidth='3')\nplt.xlabel('K values')\nplt.ylabel('Squared Error (Cost)')\nplt.grid(color='white', linestyle='-', linewidth=2)\nplt.show()"
        },
        {
            "cell_type": "code",
            "execution_count": null,
            "metadata": {},
            "outputs": [],
            "source": "#Install Dependencies \n!pip install yellowbrick\nfrom yellowbrick.cluster import KElbowVisualizer"
        },
        {
            "cell_type": "code",
            "execution_count": null,
            "metadata": {},
            "outputs": [],
            "source": "# Instantiate the clustering model and visualizer\nfrom sklearn.cluster import KMeans\n\nmodel = KMeans()\nvisualizer = KElbowVisualizer(model, k=(3,12))\nvisualizer.fit(toronto_part_clustering)       \nvisualizer.show() "
        },
        {
            "cell_type": "code",
            "execution_count": null,
            "metadata": {},
            "outputs": [],
            "source": "#K = 5 looks like the best value "
        },
        {
            "cell_type": "markdown",
            "metadata": {},
            "source": "#### C.5.b Clustering on Folium \nGoal: Visualize the clusters on the folium map "
        },
        {
            "cell_type": "code",
            "execution_count": null,
            "metadata": {},
            "outputs": [],
            "source": "#using k = 5 \nkclusters = 5\ntoronto_part_clustering = toronto_part.drop('Neighborhood', 1)\nkmeans = KMeans(n_clusters=kclusters, random_state=0).fit(toronto_part_clustering)\n\nkmeans.labels_"
        },
        {
            "cell_type": "code",
            "execution_count": null,
            "metadata": {},
            "outputs": [],
            "source": "#create dataframe for folium\ntoronto_part.insert(0, 'Cluster Labels', kmeans.labels_)\ntoronto_merged = toronto_DF\n\ntoronto_merged = toronto_merged.join(toronto_part.set_index('Neighborhood'), on='Neighborhood')\ntoronto_merged.dropna(subset=[\"Cluster Labels\"], axis=0, inplace=True)\n\ntoronto_merged.reset_index(drop=True, inplace=True)\ntoronto_merged['Cluster Labels'].astype(int)\n\n#Data Sample\ntoronto_merged.head()"
        },
        {
            "cell_type": "code",
            "execution_count": null,
            "metadata": {},
            "outputs": [],
            "source": "#create folium map \nimport matplotlib.cm as cm\nimport matplotlib.colors as colors\n\nmap_clusters = folium.Map(location=[latitude, longitude], zoom_start=11, width='90%', height='70%')\n\n# set color scheme for the clusters\nx = np.arange(kclusters)\nys = [i + x + (i*x)**2 for i in range(kclusters)]\ncolors_array = cm.rainbow(np.linspace(0, 1, len(ys)))\nrainbow = [colors.rgb2hex(i) for i in colors_array]\n\n# add markers to the map\nmarkers_colors = []\nfor lat, lon, poi, cluster in zip(toronto_merged['Latitude'], toronto_merged['Longitude'], toronto_merged['Neighborhood'], toronto_merged['Cluster Labels'].astype(int)):\n    label = folium.Popup(str(poi) + ' Cluster ' + str(cluster), parse_html=True)\n    folium.CircleMarker(\n        [lat, lon],\n        radius=5,\n        popup=label,\n        color=rainbow[cluster-1],\n        fill=True,\n        fill_color=rainbow[cluster-1],\n        fill_opacity=0.7).add_to(map_clusters)\nmap_clusters"
        },
        {
            "cell_type": "code",
            "execution_count": null,
            "metadata": {},
            "outputs": [],
            "source": ""
        },
        {
            "cell_type": "markdown",
            "metadata": {},
            "source": "#### C.5.c Examine the Clusters"
        },
        {
            "cell_type": "code",
            "execution_count": null,
            "metadata": {},
            "outputs": [],
            "source": "#Cluster 0 contains the neighborhoods which has no chinese restaurants. \n# It is shown in red color in the map.\n\ntoronto_merged.loc[toronto_merged['Cluster Labels'] == 0]"
        },
        {
            "cell_type": "code",
            "execution_count": null,
            "metadata": {},
            "outputs": [],
            "source": "# Cluster 1 contains the neighborhoods which is medium populated with Chinese restaurants. \n# It is shown in purple color in the map.\n\ntoronto_merged.loc[toronto_merged['Cluster Labels'] == 1]"
        },
        {
            "cell_type": "code",
            "execution_count": null,
            "metadata": {},
            "outputs": [],
            "source": "#Cluster 2 contains all the neighborhoods which is largely populated with Chinese restaurants. \n# It is shown in blue color in the map.\n\ntoronto_merged.loc[toronto_merged['Cluster Labels'] == 2]"
        },
        {
            "cell_type": "code",
            "execution_count": null,
            "metadata": {},
            "outputs": [],
            "source": "# Cluster 3 has no rows meaning no data points or neighborhood was near to this centroid.\n\ntoronto_merged.loc[toronto_merged['Cluster Labels'] == 3]"
        },
        {
            "cell_type": "code",
            "execution_count": null,
            "metadata": {},
            "outputs": [],
            "source": "#Cluster 4 contains the neighborhoods which is sparsely populated with Chinese restaurants.\n# It is shown in orange color in the map.\ntoronto_merged.loc[toronto_merged['Cluster Labels'] == 4]"
        },
        {
            "cell_type": "code",
            "execution_count": null,
            "metadata": {},
            "outputs": [],
            "source": "# Cluster 5 has no rows meaning no data points or neighborhood was near to this centroid.\n\ntoronto_merged.loc[toronto_merged['Cluster Labels'] == 5]"
        },
        {
            "cell_type": "code",
            "execution_count": null,
            "metadata": {},
            "outputs": [],
            "source": ""
        },
        {
            "cell_type": "markdown",
            "metadata": {},
            "source": "## C.Results\n#### *Discuss the results\n\n*Full Results can be found in Capstone Report "
        },
        {
            "cell_type": "code",
            "execution_count": null,
            "metadata": {},
            "outputs": [],
            "source": ""
        },
        {
            "cell_type": "markdown",
            "metadata": {},
            "source": "\n5.1 Results\n\nWith our business problem of identidying a potentially great place for a new Chinese Restaurant, we looked into all neighborhoods\nWe have reached the end of the analysis, in the result section we can document all the findinds from above clustering & visualization of the datas. In this project, as the business problem started with identifying a good neighborhood to open a new Indian restaurant, we looked into all the neighborhoods in Toronto, analysed the Indian population in each neighborhood & spread of Indian restaurants in those neighborhoods to come to conclusion about which neighborhood would be a better spot for opening a new Indian restaurant. I have used data from web resources like Wikipedia, geospatial coordinates of Toronto neighborhoods, and Foursquare API, to set up a very realistic data-analysis scenario. We have found out that \u2014\n\nIn those 11 boroughs we identified that only Central Toronto, Downtown Tronto, East Toronto, East York, North York & Scarborough boroughs have high amount of Indian restaurants with the help of Violin plots between Number of Indian restaurants in Borough of Toronto.\nIn all the ridings, Scarborough-Guildwood, Scarborough-Rouge Park, Scarborough Centre, Scarborough North, Humber River-Black Creek, Don Valley East, Scarborough Southwest, Don Valley North & Scarborough-Agincourt are the densely populated with Indian crowd ridings.\nWith the help of clusters examing & violin plots looks like Downtown Toronto, Central Toronto, East York are already densely populated with Indian restaurants. So it is better idea to leave those boroughs out and consider only Scarborough, East Toronto & North York for the new restaurant's location.\nAfter careful consideration it is a good idea to open a new Indian restaurant in Scarborough borough since it has high number of Indian population which gives a higher number of customers possibility and lower competition since very less Indian restaurants in the neighborhoods."
        },
        {
            "cell_type": "markdown",
            "metadata": {},
            "source": "5.2 Discussion\nAccording to this analysis, Scarborough borough will provide least competition for the new upcoming Indian restaurant as there is very little Indian restaurants spread or no Indian restaurants in neighborhoods. Also looking at the population distribution looks like it is densely populated with Indian crowd which helps the new restaurant by providing hig customer visit possibilty. So, definitely this region could potentially be a perfect place for starting a quality Indian restaurants. Some of the drawbacks of this analysis are \u2014 the clustering is completely based only on data obtained from Foursquare API. Also the Indian population distribution in each neighborhood is also based on the 2016 census which is not up-to date. Thus population distribution would have definitely changed by 2019 given 3 years gap in the data. Since population distribution of Indian crowd in each neighborhood & number of Indian restaurants are the major feature in this analysis and it is not fully up-to date data, this analysis is definitely not far from being conclusory & it has lot of areas where it can be imporved. However, it certainly provides us with some good insights, preliminary information on possibilites & a head start into this business problem by setting the step stones properly. Furthermore, this may also potentially vary depending on the type of clustering techniques that we use to examine the data."
        },
        {
            "cell_type": "markdown",
            "metadata": {},
            "source": "6. Conclusion:\nFinally to conclude this project, We have got a chance to on a business problem like how a real like data scientists would do. We have used many python libraries to fetch the data , to manipulate the contents & to analyze and visualize those datasets. We have made use of Foursquare API to explore the venues in enighborhoods of Toronto, then get good amount of data from Wikipedia which we scraped with help of Wikipedia python library and visualized using various plots present in seaborn & matplotlib. We also applied machine learning technique to to predict the output given the data and used Folium to visualize it on a map. Also, some of the drawbacks or areas of improvements shows us that this analysis can further be improved with help more data and different machine learning technique. Similarly we can use this project to analysis any scenario such opening a different cuisine or success of opening a new gym and etc. Hopefully, this project helps acts as initial guidance to take more complex real-life challenges using data-science.\n\n\nAfter performing the data cleaning & data analysis we can identify that their no big relationship established in terms of the Indian population & the popular Indian restaurants.\n\nThus this marks end of the data cleaning & analyses step in this project. Next we will look into the predictive modeling. In the predictive modelling we are going to use Clustering techniques since this is analysis of unlabelled data. K-Means clustering is used to perform the analysis of the data at hand."
        },
        {
            "cell_type": "code",
            "execution_count": null,
            "metadata": {},
            "outputs": [],
            "source": ""
        },
        {
            "cell_type": "code",
            "execution_count": null,
            "metadata": {},
            "outputs": [],
            "source": "  "
        }
    ],
    "metadata": {
        "kernelspec": {
            "display_name": "Python 3.6",
            "language": "python",
            "name": "python3"
        },
        "language_info": {
            "codemirror_mode": {
                "name": "ipython",
                "version": 3
            },
            "file_extension": ".py",
            "mimetype": "text/x-python",
            "name": "python",
            "nbconvert_exporter": "python",
            "pygments_lexer": "ipython3",
            "version": "3.6.9"
        }
    },
    "nbformat": 4,
    "nbformat_minor": 1
}