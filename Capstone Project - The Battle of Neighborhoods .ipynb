{
    "cells": [
        {
            "cell_type": "markdown",
            "metadata": {
                "collapsed": true
            },
            "source": "# Capstone Project - The Battle of Neighborhoods (Week 1)"
        },
        {
            "cell_type": "markdown",
            "metadata": {},
            "source": "## Introduction/Business Problem"
        },
        {
            "cell_type": "markdown",
            "metadata": {},
            "source": "### Goal: \nTo provide information to a new visitor to Chicago. Given a list of main sites, venues and attractions in the beautiful city, they can explore the beautiful city while also being aware of the crime rate. In case they are feeling a little scared of getting into an accident with the locals. Enjoy their stay while staying far far far far away from trouble. \n\ne.g. Is it safe to eat at this restaurant at 10:00 pm if Im looking for a late night bite?\n\n### Target Audience:\n- A Group of unexperienced Travellers who may not be familiar with the area\n- Single Travellers \n- Travellers (like myself) who wants to double-double check everything before they visit \n- Those who are looking to enjoy Chicago with additional safety information "
        },
        {
            "cell_type": "markdown",
            "metadata": {},
            "source": "### Data:"
        },
        {
            "cell_type": "markdown",
            "metadata": {},
            "source": "#### How I'm using Data to solve the problem: "
        },
        {
            "cell_type": "markdown",
            "metadata": {},
            "source": "- Top Sites to Visit (FourSquare API)\n- Geographical information for each top site (FourSquare API)\n- Top Restaurant information (FourSquare API)\n- Chicago Crime Data (Chicago Crime Public Website)"
        },
        {
            "cell_type": "code",
            "execution_count": null,
            "metadata": {},
            "outputs": [],
            "source": ""
        },
        {
            "cell_type": "code",
            "execution_count": null,
            "metadata": {},
            "outputs": [],
            "source": ""
        },
        {
            "cell_type": "code",
            "execution_count": null,
            "metadata": {},
            "outputs": [],
            "source": ""
        },
        {
            "cell_type": "code",
            "execution_count": null,
            "metadata": {},
            "outputs": [],
            "source": ""
        },
        {
            "cell_type": "code",
            "execution_count": null,
            "metadata": {},
            "outputs": [],
            "source": ""
        },
        {
            "cell_type": "code",
            "execution_count": null,
            "metadata": {},
            "outputs": [],
            "source": ""
        },
        {
            "cell_type": "code",
            "execution_count": null,
            "metadata": {},
            "outputs": [],
            "source": ""
        }
    ],
    "metadata": {
        "kernelspec": {
            "display_name": "Python 3.6",
            "language": "python",
            "name": "python3"
        },
        "language_info": {
            "codemirror_mode": {
                "name": "ipython",
                "version": 3
            },
            "file_extension": ".py",
            "mimetype": "text/x-python",
            "name": "python",
            "nbconvert_exporter": "python",
            "pygments_lexer": "ipython3",
            "version": "3.6.9"
        }
    },
    "nbformat": 4,
    "nbformat_minor": 1
}