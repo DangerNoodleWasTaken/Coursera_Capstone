{
    "cells": [
        {
            "cell_type": "markdown",
            "metadata": {
                "collapsed": true
            },
            "source": "# Capstone Project - The Battle of Neighborhoods (Week 1)"
        },
        {
            "cell_type": "markdown",
            "metadata": {},
            "source": "### Introduction/Business Problem"
        },
        {
            "cell_type": "markdown",
            "metadata": {},
            "source": "Goal: Help new business owners in their decision to open a resteraunt in Toronto. By providing them with informaation and data about the neighborhood (income, population, population density, competition, etc) so that they can choose the best location."
        },
        {
            "cell_type": "markdown",
            "metadata": {},
            "source": "### Data "
        },
        {
            "cell_type": "markdown",
            "metadata": {},
            "source": "How I'm using Data to solve the problem: "
        },
        {
            "cell_type": "markdown",
            "metadata": {},
            "source": "I'll be using this information on Toronto's Census Data (https://www.toronto.ca/city-government/data-research-maps/open-data/open-data-catalogue/#8c732154-5012-9afe-d0cd-ba3ffc813d5a) to find the necessary information on the following:"
        },
        {
            "cell_type": "markdown",
            "metadata": {},
            "source": "- Average Income per Neighborhood"
        },
        {
            "cell_type": "markdown",
            "metadata": {},
            "source": "- Population"
        },
        {
            "cell_type": "markdown",
            "metadata": {},
            "source": "- Competitors "
        },
        {
            "cell_type": "markdown",
            "metadata": {},
            "source": "Using this information on Toronto's Census Data: https://www.toronto.ca/city-government/data-research-maps/open-data/open-data-catalogue/#8c732154-5012-9afe-d0cd-ba3ffc813d5a"
        },
        {
            "cell_type": "code",
            "execution_count": null,
            "metadata": {},
            "outputs": [],
            "source": ""
        }
    ],
    "metadata": {
        "kernelspec": {
            "display_name": "Python 3.6",
            "language": "python",
            "name": "python3"
        },
        "language_info": {
            "codemirror_mode": {
                "name": "ipython",
                "version": 3
            },
            "file_extension": ".py",
            "mimetype": "text/x-python",
            "name": "python",
            "nbconvert_exporter": "python",
            "pygments_lexer": "ipython3",
            "version": "3.6.9"
        }
    },
    "nbformat": 4,
    "nbformat_minor": 1
}