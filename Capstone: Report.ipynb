{
    "cells": [
        {
            "cell_type": "markdown",
            "metadata": {
                "collapsed": true
            },
            "source": "# **Final IBM Capstone Project**\n*Welcome to the final IBM Capstone Project. Now that you have been equipped with the skills and the tools to use location data to explore a geographical location, over the course of two weeks, you will have the opportunity to be as creative as you want and come up with an idea to leverage the Foursquare location data to explore or compare neighborhoods or cities of your choice or to come up with a problem that you can use the Foursquare location data to solve.*"
        },
        {
            "cell_type": "markdown",
            "metadata": {},
            "source": ""
        },
        {
            "cell_type": "markdown",
            "metadata": {},
            "source": "## Table of Contents \n#### A. Introduction \n#### B. Data \n**B.1 Data Sources**\n**B.2 Data Analysis and Cleaning** \n#### C. Methodology \n#### D. Results \n**D.1 Results**\n**D.2 Discussion**\n#### E. Conclusion "
        },
        {
            "cell_type": "code",
            "execution_count": null,
            "metadata": {},
            "outputs": [],
            "source": ""
        },
        {
            "cell_type": "markdown",
            "metadata": {},
            "source": "## A. Introduction \n*Discuss the business problem and who would be interested in this project*\n\n**Business Problem*: Opening a Chinese Restaurant in Toronto, Canada**\\\nIn this project we will try to find an optimal location for a restaurant. Specifically, this report will be targeted to stakeholders interested in opening an Chinese restaurant in Toronto, Ontario, Canada. \n\nToronto - the provincial capital of Ontario. With a recorded population of 2,731,571 in 2016, it is the most populous city in Canada and the fourth most populous city in North America. Toronto is an international centre of business, finance, arts, and culture, and is recognized as one of the most multicultural and cosmopolitan cities in the world.\n\nStarting a restaurant with a recognized and popular cuisine can have great potential. We will analyze the neighborhoods in Toronto to identify the most profitable area based on population density and ethnicity diversity. Toronto is a great place to start the restaurant. It remains to be determined where the optimal location is.\n"
        },
        {
            "cell_type": "markdown",
            "metadata": {},
            "source": "## B. Data \n*Describe the data that will be used to solve the problem and the source of the data*\n\n**B.1 Data Sources**\\\nBased on the definition of our problem, factors that will influence our decision (thus are needed to generate the required data) are:\n- a. Toronto's Neighborhood information \n      Source: https://en.wikipedia.org/wiki/List_of_postal_codes_of_Canada:_M\n- b. Toronto's Neighborhood Geographical Information\n      Source: https://cocl.us/Geospatial_data\n- c. Population Distribution by Ethnic Diversity\n      Source: https://en.m.wikipedia.org/wiki/Demographics_of_Toronto#Ethnic_diversity)\n- d. Toronto's Venues Locations, Names, Categories via Foursquare's explore API \n      Source: https://developer.foursquare.com\n\n**B.2 Data Cleaning for Analysis** \\\nIn order to gathering our data source information in a clean and clear manner, we obtained the following information on Toronto, Canada:   \n- Postal Codes\n- Boroughs \n- Neighborhoods\n- Latitude\n- Longitude\n- Population (Chinese Ethnic Group)\n- Top 100 Venues within a 1 Km distance\n\nWe're now ready to use this data for analysis to produce the report on optimal locations for a new chinese restaurant! By combining all of these data sources, we can create a data summary that will allow target audiences to make the best educated decision for their restaurant location based on:\n- The number of chinese restaurants in Toronto's boroughs and neighborhoods \n     * to see where the most and least amount of competition are \n- The highest chinese population density in Toronto's ridings \n     * to see where our restaurant could have the highest number of customer interest"
        },
        {
            "cell_type": "markdown",
            "metadata": {},
            "source": "## C. Methodology \n*Represents the main component of the report where you discuss. Describe any exploratory data analysis that you did, any inferential statistical testing that you performed, if any, and what machine learnings were used and why.*\n\nWe are focusing our efforts on finding areas of Toronto that have the lowest chinese restaurant density, thus less competition. \n\nIn first step, we used Folium as a visual diagram to see the area we are working with. With out collected information of the location and type (category) of every restaurant, we can cluster all chinese restaurants to their respective neighborhoods. \n\nThe second step in our analysis will be \"Exploratory Data Analysis\" - the calculation and exploration of the following:\n- the 'restaurant density' across each neighborhood, borough and riding \n      * Each area can provide general to specific information to shareholders of their competitions \n- the 'population density' of chinese ethnic groups in each neighborhood \n\nIn third and final step we will focus on most promising areas and within those create clusters of locations that meet some basic requirements established in discussion with stakeholders. Using  Predictive Modeling over Inferential Statistical Testing, we will look into K-means clustering techniques. We will present map of all such locations but also create clusters (using k-means clustering) of those locations to identify general zones / neighborhoods / boroughs which should be a starting point for final 'street level' exploration and search for optimal venue location by stakeholders."
        },
        {
            "cell_type": "markdown",
            "metadata": {},
            "source": "## D. Results \n\n**D.1 Results**\\\nIn our search to identify one or more great neighborhoods to open a new chinese restaurant, it was noted that there was no major correlation between the Chinese population density & the Chinese restaurants density. \n\nContinuing our search, we looked into all the neighborhoods in Toronto with their respective chinese population density & number of chinese restaurants. We have used variety of data sources to set up a very realistic data-analysis scenario. We have found out that \u2014\n\nWe identified that the following ridings have a significantly high amount of chinese population density aka possible higher customer demand (from highest density to lowest):\n- Scarborough-Agincourt \n- Scarborough North \n- Don Valley North \n- Willowdale\n\nIn the following neighborhoods with their respective boroughs, we identified that these areas have existing chinese restaurants (from highest density to lowest). It would be important for shareholders to know that these areas would be the least ideal place for their restaurant location. \n- Bayview in North York\n- Westmount in Etobicoke \n- Don Mills in North York \n- St. James Town in Downtown Toronto \n\nWith the help of clusters examining & violin plots, it is better to consider only Scarborough-Agincourt and Scarborough North for the new restaurant\u2019s location. Since it has high number of chinese population which gives a higher number of customers possibility and lower competition since very less chinese restaurants in the neighborhoods.\n\n**D.2 Discussion**\\\nSome of the drawbacks of this analysis are \u2014 the clustering is completely based only on data obtained from Foursquare API and the data about the chinese population distribution in each neighborhood is also based on the 2016 census which is not up-to date. Thus there is huge gap of 3 years in the population distribution data. Even Though there are lots of areas where it can be improved yet this analysis has certainly provided us with some good insights, preliminary information on possibilities & a head start into this business problem by setting the step stones properly."
        },
        {
            "cell_type": "markdown",
            "metadata": {},
            "source": "## E. Conclusion:\nFinally to conclude this project, We have got a chance to on a business problem like how a real like data scientists would do. We have used many python libraries to fetch the data, to manipulate the contents & to analyze and visualize those datasets. We have made use of Foursquare API to explore the venues in neighborhoods of Toronto, then get good amount of data from Wikipedia which we scraped with help of Wikipedia python library and visualized using various plots present in seaborn & matplotlib. We also applied machine learning technique to predict the output given the data and used Folium to visualize it on a map.\nSome of the drawbacks or areas of improvements shows us that this analysis can be further improved with the help of more data and different machine learning technique. Similarly we can use this project to analysis any scenario such as opening a different cuisine restaurant or opening of a new gym and etc. Hopefully, this project helps acts as initial guidance to take more complex real-life challenges using data-science."
        },
        {
            "cell_type": "code",
            "execution_count": null,
            "metadata": {},
            "outputs": [],
            "source": ""
        }
    ],
    "metadata": {
        "kernelspec": {
            "display_name": "Python 3.6",
            "language": "python",
            "name": "python3"
        },
        "language_info": {
            "codemirror_mode": {
                "name": "ipython",
                "version": 3
            },
            "file_extension": ".py",
            "mimetype": "text/x-python",
            "name": "python",
            "nbconvert_exporter": "python",
            "pygments_lexer": "ipython3",
            "version": "3.6.9"
        }
    },
    "nbformat": 4,
    "nbformat_minor": 1
}